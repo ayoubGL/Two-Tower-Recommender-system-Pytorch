{
 "cells": [
  {
   "cell_type": "markdown",
   "metadata": {},
   "source": [
    "# Healthy Personalized Food Recommender System Using Two-Tower Deep Neural Network"
   ]
  },
  {
   "cell_type": "markdown",
   "metadata": {},
   "source": [
    "# Motivation \n",
    "\n",
    "Recommender systems are designed to assist users in discovering relevant items by analyzing their preferences and generating a tailored list of suggestions. These systems effectively address the problem of choice overload, enabling users to navigate through vast amount of options with ease. By accurately predicting user preferences, recommender systems enhance user experience and satisfaction. They are widely employed across various domains, offering personalized recommendations that cater to individual needs and interest.\n",
    "Recommender system employs three different approaches to generate recommendations, collaborative filtering, content based filtering and hybrid approach. \n",
    "\n",
    "\n",
    "In the domain of food, recommender systems are utilized in various contexts such as restaurant suggestions, grocery store item personalization, and recipe recommendations. Creating an accurate food recommender system is complex due to the multifaceted nature of the food domain, which involves context, location, health preferences, and more.\n"
   ]
  },
  {
   "cell_type": "markdown",
   "metadata": {},
   "source": [
    "## Problem Formulation\n",
    "\n",
    "Deciding what and where to eat is challenging due to the vast array of available options. Online food recommender systems aim to help users find relevant food items and recipes. However, previous studies show that these systems often promote unhealthy food choices. This is primarily due to user-generated content that favors unhealthy options and the use of datasets that do not comply with health metrics like the Food Standards Agency (FSA) score and World Health Organization (WHO) guidelines.\n",
    "\n",
    "The goal of this project is to develop a ranking food recommender system that suggests top recipe recommendations. A subsequent healthiness filter will rank these recommendations based on the healthiness of the recipes, using the FSA score. The recommendation generation will be based on the well-known Two-Tower architecture, a popular deep learning approach for building recommender systems.\n",
    "\n",
    "\n",
    "The proposed model will be evaluated against a baseline: a traditional Singular Value Decomposition (SVD) collaborative filtering model. User recipe ratings will be used to assess the effectiveness of both models.\n",
    "\n",
    "The future application of this project will involve conducting a user study to provide personalized recommendations using the Two-Tower deep learning model to predict personalized recipes according to each user preference and features. A healthiness filter algorithm will select the healthiest recipes to present to users. The key evaluative question will be:\n",
    "\n",
    "To what extent does a highly personalized recommender system nudge users toward healthier food choices?\n",
    "\n",
    "This notebook is organized into the following sections:\n",
    "\n",
    "- **Dataset:** Overview of the dataset used to train the model\n",
    "- **Model Architecture:** Details of the Two-Tower deep neural network\n",
    "- **SVD Baseline:** Description of the baseline collaborative filtering model\n",
    "- **Evaluation:** Results and evaluations of the developed models"
   ]
  },
  {
   "cell_type": "markdown",
   "metadata": {},
   "source": [
    "## Dataset\n",
    "\n",
    "The dataset that we will use in this project is collected during the course line of my PhD project and the user experiments that we condactated as mean to evaluate our propesed recommender systems and digital nudges. The dataset collected from several experiments that can found :\n",
    "\n",
    "- [ [1] Nudging Towards Health? Examining the Merits of Nutrition\n",
    "Labels and Personalization in a Recipe Recommender System](https://dl.acm.org/doi/pdf/10.1145/3503252.3531312) \n",
    "- [ [2] Boosting Health? Examining the Role of Nutrition\n",
    "Labels and Preference Elicitation Methods in Food\n",
    "Recommendation](https://edepot.wur.nl/579903) \n",
    "- [ [3] The Interplay between Food Knowledge, Nudges, and\n",
    "Preference Elicitation Methods Determines the\n",
    "Evaluation of a Recipe Recommender System](https://ceur-ws.org/Vol-3534/paper1.pdf) \n",
    "- [ [4] Nudging towards sustainable recipes: Nudging towards sustainable recipes, Internal project]()\n",
    "\n",
    "\n",
    "### Data Preparation and EDA"
   ]
  },
  {
   "cell_type": "markdown",
   "metadata": {},
   "source": [
    "- The dataset is from different projects and the main idea is to construct training data from the previously collected data: user features dataset and a dataframe that describes recipe features."
   ]
  },
  {
   "cell_type": "code",
   "execution_count": 3,
   "metadata": {},
   "outputs": [],
   "source": [
    "## import libraries\n",
    "import pandas as pd\n",
    "import numpy as np\n",
    "import matplotlib.pyplot as plt"
   ]
  },
  {
   "cell_type": "markdown",
   "metadata": {},
   "source": [
    "#### User Features\n",
    "Construct a user training dataset that describes each user through various features, derived by combining different dataframes from the above projects."
   ]
  },
  {
   "cell_type": "code",
   "execution_count": 51,
   "metadata": {},
   "outputs": [],
   "source": [
    "##  user data from Nudging towards healthy food choice [1]\n",
    "nudge_pers_df = pd.read_csv('./Dataset/Nudging_personalization.csv')\n",
    "\n",
    "## user data from Boosting healthy [2]\n",
    "boosting_heal_df = pd.read_csv('./Dataset/PE_boost_nudge_study.csv')\n",
    "\n",
    "## user data from Interplay between food knowledge and preference elicitation [3]\n",
    "preference_user_df = pd.read_csv('./Dataset/PE_elicitation.csv')\n",
    "\n",
    "## sustainability data\n",
    "sustainability_user_id = pd.read_csv('./Dataset/Sustainability_data.csv')"
   ]
  },
  {
   "cell_type": "markdown",
   "metadata": {},
   "source": [
    "- Select useful features from each DF"
   ]
  },
  {
   "cell_type": "code",
   "execution_count": 52,
   "metadata": {},
   "outputs": [
    {
     "name": "stdout",
     "output_type": "stream",
     "text": [
      "<class 'pandas.core.frame.DataFrame'>\n",
      "RangeIndex: 300 entries, 0 to 299\n",
      "Data columns (total 22 columns):\n",
      " #   Column               Non-Null Count  Dtype \n",
      "---  ------               --------------  ----- \n",
      " 0   person               300 non-null    int64 \n",
      " 1   age                  300 non-null    object\n",
      " 2   country              300 non-null    object\n",
      " 3   education            300 non-null    object\n",
      " 4   diet_restriction     300 non-null    object\n",
      " 5   diet_goal            300 non-null    object\n",
      " 6   cooking_exp          300 non-null    object\n",
      " 7   eating_habits        300 non-null    object\n",
      " 8   gender               300 non-null    object\n",
      " 9   recipe_name          300 non-null    object\n",
      " 10  healthiness          300 non-null    object\n",
      " 11  Nutri_score          300 non-null    object\n",
      " 12  fsa_score            300 non-null    int64 \n",
      " 13  recommend_recipe     300 non-null    object\n",
      " 14  become_favorite      300 non-null    object\n",
      " 15  enjoy_eating         300 non-null    object\n",
      " 16  many_to_choose       300 non-null    object\n",
      " 17  easy_choice          300 non-null    object\n",
      " 18  choice_overwhelming  300 non-null    object\n",
      " 19  condition            300 non-null    int64 \n",
      " 20  num_nutri            300 non-null    int64 \n",
      " 21  str_condition        300 non-null    object\n",
      "dtypes: int64(4), object(18)\n",
      "memory usage: 51.7+ KB\n"
     ]
    }
   ],
   "source": [
    "## DF [1]\n",
    "nudge_pers_df.info()\n",
    "nudge_pers_df = nudge_pers_df[['person','age','country','education','diet_restriction','diet_goal', \n",
    "                               'cooking_exp','eating_habits','gender','recipe_name']] "
   ]
  },
  {
   "cell_type": "code",
   "execution_count": 53,
   "metadata": {},
   "outputs": [
    {
     "name": "stdout",
     "output_type": "stream",
     "text": [
      "<class 'pandas.core.frame.DataFrame'>\n",
      "RangeIndex: 243 entries, 0 to 242\n",
      "Data columns (total 35 columns):\n",
      " #   Column               Non-Null Count  Dtype  \n",
      "---  ------               --------------  -----  \n",
      " 0   person               243 non-null    int64  \n",
      " 1   age                  243 non-null    object \n",
      " 2   country              243 non-null    object \n",
      " 3   education            243 non-null    object \n",
      " 4   gender               243 non-null    object \n",
      " 5   FK_1                 243 non-null    int64  \n",
      " 6   FK_2                 243 non-null    int64  \n",
      " 7   FK_3                 243 non-null    int64  \n",
      " 8   FK_4                 243 non-null    int64  \n",
      " 9   FK_5                 243 non-null    int64  \n",
      " 10  category             243 non-null    object \n",
      " 11  recipe_id            243 non-null    int64  \n",
      " 12  recipe_name          243 non-null    object \n",
      " 13  Nutri_score          243 non-null    object \n",
      " 14  fsa_score            243 non-null    int64  \n",
      " 15  healthiness          243 non-null    object \n",
      " 16  title                243 non-null    object \n",
      " 17  liked_recipes        243 non-null    int64  \n",
      " 18  prepare_recipes      243 non-null    int64  \n",
      " 19  fit_preference       243 non-null    int64  \n",
      " 20  know_many            243 non-null    int64  \n",
      " 21  recommend_recipe     243 non-null    int64  \n",
      " 22  many_to_choose       243 non-null    int64  \n",
      " 23  easy_choice          243 non-null    int64  \n",
      " 24  choice_overwhelming  243 non-null    int64  \n",
      " 25  sys_time             243 non-null    int64  \n",
      " 26  unders_sys           243 non-null    int64  \n",
      " 27  many_actions         243 non-null    int64  \n",
      " 28  condition            243 non-null    object \n",
      " 29  recommender          243 non-null    object \n",
      " 30  recipe_popularity    121 non-null    float64\n",
      " 31  calories             121 non-null    float64\n",
      " 32  recipe_size          121 non-null    float64\n",
      " 33  preparation_time     121 non-null    float64\n",
      " 34  n_ingredient         121 non-null    float64\n",
      "dtypes: float64(5), int64(19), object(11)\n",
      "memory usage: 66.6+ KB\n"
     ]
    }
   ],
   "source": [
    "## DF [2]\n",
    "boosting_heal_df.info()\n",
    "boosting_heal_df = boosting_heal_df[['person','age','country','education','gender','recipe_name']] "
   ]
  },
  {
   "cell_type": "code",
   "execution_count": 54,
   "metadata": {},
   "outputs": [
    {
     "name": "stdout",
     "output_type": "stream",
     "text": [
      "<class 'pandas.core.frame.DataFrame'>\n",
      "RangeIndex: 360 entries, 0 to 359\n",
      "Data columns (total 42 columns):\n",
      " #   Column               Non-Null Count  Dtype  \n",
      "---  ------               --------------  -----  \n",
      " 0   person               360 non-null    int64  \n",
      " 1   age                  360 non-null    object \n",
      " 2   country              360 non-null    object \n",
      " 3   education            360 non-null    object \n",
      " 4   gender               360 non-null    object \n",
      " 5   FK_9                 360 non-null    int64  \n",
      " 6   FK_10                360 non-null    int64  \n",
      " 7   FK_11                360 non-null    int64  \n",
      " 8   FK_12                360 non-null    int64  \n",
      " 9   Height               180 non-null    float64\n",
      " 10  Weight               180 non-null    float64\n",
      " 11  RecipeWebUsage       180 non-null    object \n",
      " 12  HomeCook             180 non-null    object \n",
      " 13  CookingExp           180 non-null    object \n",
      " 14  EatingGoals          180 non-null    object \n",
      " 15  Depression           180 non-null    object \n",
      " 16  PhysicalActivity     180 non-null    object \n",
      " 17  SleepHours           180 non-null    object \n",
      " 18  CookingTime          180 non-null    object \n",
      " 19  recipe_id            360 non-null    int64  \n",
      " 20  recipe_name          360 non-null    object \n",
      " 21  Nutri_score          360 non-null    object \n",
      " 22  fsa_score            360 non-null    int64  \n",
      " 23  healthiness          360 non-null    object \n",
      " 24  liked_recipes        360 non-null    int64  \n",
      " 25  prepare_recipes      360 non-null    int64  \n",
      " 26  fit_preference       360 non-null    int64  \n",
      " 27  know_many            360 non-null    int64  \n",
      " 28  recommend_recipe     360 non-null    int64  \n",
      " 29  many_to_choose       360 non-null    int64  \n",
      " 30  easy_choice          360 non-null    int64  \n",
      " 31  choice_overwhelming  360 non-null    int64  \n",
      " 32  sys_time             360 non-null    int64  \n",
      " 33  unders_sys           360 non-null    int64  \n",
      " 34  many_actions         360 non-null    int64  \n",
      " 35  condition            360 non-null    object \n",
      " 36  N_condition          360 non-null    int64  \n",
      " 37  choice_satisfaction  360 non-null    float64\n",
      " 38  choice_difficulty    360 non-null    float64\n",
      " 39  perceived_effort     360 non-null    float64\n",
      " 40  SFD                  360 non-null    float64\n",
      " 41  PE                   360 non-null    object \n",
      "dtypes: float64(6), int64(19), object(17)\n",
      "memory usage: 118.2+ KB\n"
     ]
    }
   ],
   "source": [
    "## DF [3] \n",
    "preference_user_df.info()\n",
    "preference_user_df = preference_user_df[['person','age','country','education','gender','recipe_name','Height',\n",
    "                                         'Weight','RecipeWebUsage','HomeCook','CookingExp',\n",
    "                                         'EatingGoals','Depression','PhysicalActivity','SleepHours',\n",
    "                                         'CookingTime']] "
   ]
  },
  {
   "cell_type": "code",
   "execution_count": 55,
   "metadata": {},
   "outputs": [
    {
     "name": "stdout",
     "output_type": "stream",
     "text": [
      "<class 'pandas.core.frame.DataFrame'>\n",
      "RangeIndex: 200 entries, 0 to 199\n",
      "Data columns (total 23 columns):\n",
      " #   Column               Non-Null Count  Dtype  \n",
      "---  ------               --------------  -----  \n",
      " 0   person               200 non-null    int64  \n",
      " 1   age                  200 non-null    object \n",
      " 2   country              200 non-null    object \n",
      " 3   education            200 non-null    object \n",
      " 4   diet_restriction     200 non-null    object \n",
      " 5   diet_goal            200 non-null    object \n",
      " 6   cooking_exp          200 non-null    object \n",
      " 7   eating_habits        200 non-null    object \n",
      " 8   gender               200 non-null    object \n",
      " 9   category             200 non-null    object \n",
      " 10  recipe_name          200 non-null    object \n",
      " 11  healthiness          200 non-null    object \n",
      " 12  Nutri_score          200 non-null    object \n",
      " 13  fsa_score            200 non-null    int64  \n",
      " 14  SValue_Nor           200 non-null    float64\n",
      " 15  Slabel               200 non-null    object \n",
      " 16  recommend_recipe     200 non-null    object \n",
      " 17  become_favorite      200 non-null    object \n",
      " 18  enjoy_eating         200 non-null    object \n",
      " 19  many_to_choose       200 non-null    object \n",
      " 20  easy_choice          200 non-null    object \n",
      " 21  choice_overwhelming  200 non-null    object \n",
      " 22  condition            200 non-null    object \n",
      "dtypes: float64(1), int64(2), object(20)\n",
      "memory usage: 36.1+ KB\n"
     ]
    }
   ],
   "source": [
    "## DF [4] \n",
    "sustainability_user_id.info()\n",
    "sustainability_user_id = sustainability_user_id[['person','age','country','education','gender',\n",
    "                                 'recipe_name','diet_restriction','diet_goal','cooking_exp','eating_habits']] "
   ]
  },
  {
   "cell_type": "code",
   "execution_count": 56,
   "metadata": {},
   "outputs": [],
   "source": [
    "## User Dataset concatenation based on user id (person)\n",
    "\n",
    "# change the user_id to avoid intersection of different person\n",
    "boosting_heal_df[['person']] = boosting_heal_df[['person']] + nudge_pers_df[['person']].max() + 1000\n",
    "preference_user_df[['person']] = preference_user_df[['person']] + boosting_heal_df[['person']].max() + 1000\n",
    "sustainability_user_id[['person']] = sustainability_user_id[['person']] + preference_user_df[['person']].max() + 1000"
   ]
  },
  {
   "cell_type": "code",
   "execution_count": 57,
   "metadata": {},
   "outputs": [
    {
     "name": "stdout",
     "output_type": "stream",
     "text": [
      "4 2132\n",
      "3148 8204\n",
      "14275 16385\n"
     ]
    }
   ],
   "source": [
    "print(nudge_pers_df.person.min(), nudge_pers_df.person.max())\n",
    "print(boosting_heal_df.person.min(), boosting_heal_df.person.max())\n",
    "print(sustainability_user_id.person.min(), sustainability_user_id.person.max())"
   ]
  },
  {
   "cell_type": "code",
   "execution_count": 58,
   "metadata": {},
   "outputs": [],
   "source": [
    "### concatenate all user data to construct user DataFrame\n",
    "user_features_DF = pd.concat([nudge_pers_df, boosting_heal_df, sustainability_user_id], axis=0, ignore_index=True)\n",
    "user_features_DF.to_csv('./Dataset/user_features_df.csv', index=False)"
   ]
  },
  {
   "cell_type": "code",
   "execution_count": 61,
   "metadata": {},
   "outputs": [
    {
     "data": {
      "text/plain": [
       "person                0\n",
       "age                   0\n",
       "country               0\n",
       "education             0\n",
       "diet_restriction    243\n",
       "diet_goal           243\n",
       "cooking_exp         243\n",
       "eating_habits       243\n",
       "gender                0\n",
       "recipe_name           0\n",
       "dtype: int64"
      ]
     },
     "execution_count": 61,
     "metadata": {},
     "output_type": "execute_result"
    }
   ],
   "source": [
    "## Fill NAN features\n",
    "user_features_DF.isna().sum()"
   ]
  },
  {
   "cell_type": "code",
   "execution_count": 65,
   "metadata": {},
   "outputs": [
    {
     "data": {
      "text/html": [
       "<div>\n",
       "<style scoped>\n",
       "    .dataframe tbody tr th:only-of-type {\n",
       "        vertical-align: middle;\n",
       "    }\n",
       "\n",
       "    .dataframe tbody tr th {\n",
       "        vertical-align: top;\n",
       "    }\n",
       "\n",
       "    .dataframe thead th {\n",
       "        text-align: right;\n",
       "    }\n",
       "</style>\n",
       "<table border=\"1\" class=\"dataframe\">\n",
       "  <thead>\n",
       "    <tr style=\"text-align: right;\">\n",
       "      <th></th>\n",
       "      <th>diet_restriction</th>\n",
       "      <th>diet_goal</th>\n",
       "      <th>cooking_exp</th>\n",
       "      <th>eating_habits</th>\n",
       "    </tr>\n",
       "  </thead>\n",
       "  <tbody>\n",
       "    <tr>\n",
       "      <th>0</th>\n",
       "      <td>No dietary restrictions</td>\n",
       "      <td>No goals</td>\n",
       "      <td>Low</td>\n",
       "      <td>Unhealthy</td>\n",
       "    </tr>\n",
       "    <tr>\n",
       "      <th>1</th>\n",
       "      <td>No dietary restrictions</td>\n",
       "      <td>Eat less salt,Eat less sugar,Eat more fruit,Ea...</td>\n",
       "      <td>Medium</td>\n",
       "      <td>Neither_healthy_no_unhealthy</td>\n",
       "    </tr>\n",
       "    <tr>\n",
       "      <th>2</th>\n",
       "      <td>No dietary restrictions</td>\n",
       "      <td>Lose weight</td>\n",
       "      <td>Low</td>\n",
       "      <td>Neither_healthy_no_unhealthy</td>\n",
       "    </tr>\n",
       "    <tr>\n",
       "      <th>3</th>\n",
       "      <td>No dietary restrictions</td>\n",
       "      <td>No goals</td>\n",
       "      <td>High</td>\n",
       "      <td>Neither_healthy_no_unhealthy</td>\n",
       "    </tr>\n",
       "    <tr>\n",
       "      <th>4</th>\n",
       "      <td>No dietary restrictions</td>\n",
       "      <td>Eat more fruit</td>\n",
       "      <td>High</td>\n",
       "      <td>Healthy</td>\n",
       "    </tr>\n",
       "    <tr>\n",
       "      <th>...</th>\n",
       "      <td>...</td>\n",
       "      <td>...</td>\n",
       "      <td>...</td>\n",
       "      <td>...</td>\n",
       "    </tr>\n",
       "    <tr>\n",
       "      <th>738</th>\n",
       "      <td>['Lactose intolerance']</td>\n",
       "      <td>['Lose weight']</td>\n",
       "      <td>Medium</td>\n",
       "      <td>Very_unhealthy</td>\n",
       "    </tr>\n",
       "    <tr>\n",
       "      <th>739</th>\n",
       "      <td>['No dietary restrictions']</td>\n",
       "      <td>['Eat less salt', ' Gain weight']</td>\n",
       "      <td>Medium</td>\n",
       "      <td>Unhealthy</td>\n",
       "    </tr>\n",
       "    <tr>\n",
       "      <th>740</th>\n",
       "      <td>['Lactose intolerance', ' Vegetarian']</td>\n",
       "      <td>['No goals', ' Eat more fruit', ' Eat more pro...</td>\n",
       "      <td>High</td>\n",
       "      <td>Healthy</td>\n",
       "    </tr>\n",
       "    <tr>\n",
       "      <th>741</th>\n",
       "      <td>['Gluten free', ' Lactose intolerance']</td>\n",
       "      <td>['No goals']</td>\n",
       "      <td>Low</td>\n",
       "      <td>Very_unhealthy</td>\n",
       "    </tr>\n",
       "    <tr>\n",
       "      <th>742</th>\n",
       "      <td>['No dietary restrictions', ' Gluten free', ' ...</td>\n",
       "      <td>['Eat more fruit', ' Eat more protein', ' Eat ...</td>\n",
       "      <td>Medium</td>\n",
       "      <td>Healthy</td>\n",
       "    </tr>\n",
       "  </tbody>\n",
       "</table>\n",
       "<p>743 rows × 4 columns</p>\n",
       "</div>"
      ],
      "text/plain": [
       "                                      diet_restriction  \\\n",
       "0                              No dietary restrictions   \n",
       "1                              No dietary restrictions   \n",
       "2                              No dietary restrictions   \n",
       "3                              No dietary restrictions   \n",
       "4                              No dietary restrictions   \n",
       "..                                                 ...   \n",
       "738                            ['Lactose intolerance']   \n",
       "739                        ['No dietary restrictions']   \n",
       "740             ['Lactose intolerance', ' Vegetarian']   \n",
       "741            ['Gluten free', ' Lactose intolerance']   \n",
       "742  ['No dietary restrictions', ' Gluten free', ' ...   \n",
       "\n",
       "                                             diet_goal cooking_exp  \\\n",
       "0                                             No goals         Low   \n",
       "1    Eat less salt,Eat less sugar,Eat more fruit,Ea...      Medium   \n",
       "2                                          Lose weight         Low   \n",
       "3                                             No goals        High   \n",
       "4                                       Eat more fruit        High   \n",
       "..                                                 ...         ...   \n",
       "738                                    ['Lose weight']      Medium   \n",
       "739                  ['Eat less salt', ' Gain weight']      Medium   \n",
       "740  ['No goals', ' Eat more fruit', ' Eat more pro...        High   \n",
       "741                                       ['No goals']         Low   \n",
       "742  ['Eat more fruit', ' Eat more protein', ' Eat ...      Medium   \n",
       "\n",
       "                    eating_habits  \n",
       "0                       Unhealthy  \n",
       "1    Neither_healthy_no_unhealthy  \n",
       "2    Neither_healthy_no_unhealthy  \n",
       "3    Neither_healthy_no_unhealthy  \n",
       "4                         Healthy  \n",
       "..                            ...  \n",
       "738                Very_unhealthy  \n",
       "739                     Unhealthy  \n",
       "740                       Healthy  \n",
       "741                Very_unhealthy  \n",
       "742                       Healthy  \n",
       "\n",
       "[743 rows x 4 columns]"
      ]
     },
     "execution_count": 65,
     "metadata": {},
     "output_type": "execute_result"
    }
   ],
   "source": [
    "# features with nan values\n",
    "user_features_DF[['diet_restriction','diet_goal','cooking_exp','eating_habits']] "
   ]
  },
  {
   "cell_type": "code",
   "execution_count": 67,
   "metadata": {},
   "outputs": [],
   "source": [
    "## Replace Na values\n",
    "## assuming that all users will have neutral value of features with NA\n",
    "user_features_DF.fillna(\n",
    "    {\n",
    "    'diet_restriction':'No dietary restrictions',\n",
    "    'diet_goal'       :'No goals',\n",
    "    'cooking_exp'     : 'Medium',\n",
    "    'eating_habits'    :'Neither_healthy_no_unhealthy', \n",
    "    }\n",
    ", inplace=True)"
   ]
  },
  {
   "cell_type": "code",
   "execution_count": 70,
   "metadata": {},
   "outputs": [
    {
     "name": "stdout",
     "output_type": "stream",
     "text": [
      "<class 'pandas.core.frame.DataFrame'>\n",
      "RangeIndex: 743 entries, 0 to 742\n",
      "Data columns (total 10 columns):\n",
      " #   Column            Non-Null Count  Dtype \n",
      "---  ------            --------------  ----- \n",
      " 0   person            743 non-null    int64 \n",
      " 1   age               743 non-null    object\n",
      " 2   country           743 non-null    object\n",
      " 3   education         743 non-null    object\n",
      " 4   diet_restriction  743 non-null    object\n",
      " 5   diet_goal         743 non-null    object\n",
      " 6   cooking_exp       743 non-null    object\n",
      " 7   eating_habits     743 non-null    object\n",
      " 8   gender            743 non-null    object\n",
      " 9   recipe_name       743 non-null    object\n",
      "dtypes: int64(1), object(9)\n",
      "memory usage: 58.2+ KB\n"
     ]
    }
   ],
   "source": [
    "user_features_DF.info()"
   ]
  },
  {
   "cell_type": "markdown",
   "metadata": {},
   "source": [
    "- The target feature from the user data is the recipe chosen by the user, represented by the recipe name"
   ]
  },
  {
   "cell_type": "code",
   "execution_count": 78,
   "metadata": {},
   "outputs": [
    {
     "data": {
      "text/html": [
       "<div>\n",
       "<style scoped>\n",
       "    .dataframe tbody tr th:only-of-type {\n",
       "        vertical-align: middle;\n",
       "    }\n",
       "\n",
       "    .dataframe tbody tr th {\n",
       "        vertical-align: top;\n",
       "    }\n",
       "\n",
       "    .dataframe thead th {\n",
       "        text-align: right;\n",
       "    }\n",
       "</style>\n",
       "<table border=\"1\" class=\"dataframe\">\n",
       "  <thead>\n",
       "    <tr style=\"text-align: right;\">\n",
       "      <th></th>\n",
       "      <th>recipes</th>\n",
       "    </tr>\n",
       "  </thead>\n",
       "  <tbody>\n",
       "    <tr>\n",
       "      <th>0</th>\n",
       "      <td>Ray's Chicken</td>\n",
       "    </tr>\n",
       "    <tr>\n",
       "      <th>1</th>\n",
       "      <td>Sarge's EZ Pulled Pork BBQ</td>\n",
       "    </tr>\n",
       "    <tr>\n",
       "      <th>2</th>\n",
       "      <td>Bow Ties with Sausage' Tomatoes and Cream</td>\n",
       "    </tr>\n",
       "    <tr>\n",
       "      <th>3</th>\n",
       "      <td>Scott Hibb's Amazing Whisky Grilled Baby Back ...</td>\n",
       "    </tr>\n",
       "    <tr>\n",
       "      <th>4</th>\n",
       "      <td>Pizza Without the Red Sauce</td>\n",
       "    </tr>\n",
       "    <tr>\n",
       "      <th>...</th>\n",
       "      <td>...</td>\n",
       "    </tr>\n",
       "    <tr>\n",
       "      <th>184</th>\n",
       "      <td>Chicken In Basil Cream</td>\n",
       "    </tr>\n",
       "    <tr>\n",
       "      <th>185</th>\n",
       "      <td>Rosemary Lemon Grilled Chicken</td>\n",
       "    </tr>\n",
       "    <tr>\n",
       "      <th>186</th>\n",
       "      <td>Beef Bulgogi</td>\n",
       "    </tr>\n",
       "    <tr>\n",
       "      <th>187</th>\n",
       "      <td>Honey Garlic Ribs</td>\n",
       "    </tr>\n",
       "    <tr>\n",
       "      <th>188</th>\n",
       "      <td>Spicy Rapid Roast Chicken</td>\n",
       "    </tr>\n",
       "  </tbody>\n",
       "</table>\n",
       "<p>189 rows × 1 columns</p>\n",
       "</div>"
      ],
      "text/plain": [
       "                                               recipes\n",
       "0                                        Ray's Chicken\n",
       "1                           Sarge's EZ Pulled Pork BBQ\n",
       "2            Bow Ties with Sausage' Tomatoes and Cream\n",
       "3    Scott Hibb's Amazing Whisky Grilled Baby Back ...\n",
       "4                          Pizza Without the Red Sauce\n",
       "..                                                 ...\n",
       "184                             Chicken In Basil Cream\n",
       "185                     Rosemary Lemon Grilled Chicken\n",
       "186                                       Beef Bulgogi\n",
       "187                                  Honey Garlic Ribs\n",
       "188                          Spicy Rapid Roast Chicken\n",
       "\n",
       "[189 rows x 1 columns]"
      ]
     },
     "execution_count": 78,
     "metadata": {},
     "output_type": "execute_result"
    }
   ],
   "source": [
    "# extract unique selected recipes by the user\n",
    "target_recipe = pd.DataFrame(user_features_DF['recipe_name'].unique(), columns=['recipes'])\n",
    "target_recipe"
   ]
  },
  {
   "cell_type": "markdown",
   "metadata": {},
   "source": [
    "#### Recipe Features\n",
    "Construct a training dataset that describes each recipe using various features. The original dataset, primarily sourced from Allrecipes.com, serves as the basis for our research."
   ]
  },
  {
   "cell_type": "code",
   "execution_count": 118,
   "metadata": {},
   "outputs": [
    {
     "name": "stdout",
     "output_type": "stream",
     "text": [
      "<class 'pandas.core.frame.DataFrame'>\n",
      "RangeIndex: 942 entries, 0 to 941\n",
      "Data columns (total 31 columns):\n",
      " #   Column              Non-Null Count  Dtype  \n",
      "---  ------              --------------  -----  \n",
      " 0   URL                 942 non-null    object \n",
      " 1   Name                942 non-null    object \n",
      " 2   fiber_g             942 non-null    float64\n",
      " 3   sodium_g            942 non-null    float64\n",
      " 4   carbohydrates_g     942 non-null    float64\n",
      " 5   fat_g               942 non-null    float64\n",
      " 6   protein_g           942 non-null    float64\n",
      " 7   sugar_g             942 non-null    float64\n",
      " 8   saturate_g          942 non-null    float64\n",
      " 9   size_g              942 non-null    float64\n",
      " 10  Servings            942 non-null    int64  \n",
      " 11  calories_kCal       942 non-null    int64  \n",
      " 12  category            942 non-null    object \n",
      " 13  image_link          942 non-null    object \n",
      " 14  fat_100g            942 non-null    float64\n",
      " 15  fiber_100g          942 non-null    float64\n",
      " 16  sugar_100g          942 non-null    float64\n",
      " 17  saturated_100g      942 non-null    float64\n",
      " 18  protien_100g        0 non-null      float64\n",
      " 19  sodium_100mg        942 non-null    float64\n",
      " 20  carbohydrates_100g  942 non-null    float64\n",
      " 21  kj_100g             942 non-null    float64\n",
      " 22  Nutri_score         942 non-null    object \n",
      " 23  Fsa_new             942 non-null    int64  \n",
      " 24  salt_100g           942 non-null    float64\n",
      " 25  salt_g              942 non-null    float64\n",
      " 26  fat_count           942 non-null    int64  \n",
      " 27  satfat_count        942 non-null    int64  \n",
      " 28  sugar_count         942 non-null    int64  \n",
      " 29  salt_count          942 non-null    int64  \n",
      " 30  NumberRatings       942 non-null    int64  \n",
      "dtypes: float64(18), int64(8), object(5)\n",
      "memory usage: 228.3+ KB\n"
     ]
    }
   ],
   "source": [
    "## read original recipes\n",
    "source_recipes = pd.read_csv('./Dataset/recipe_source.csv')\n",
    "source_recipes.info()"
   ]
  },
  {
   "cell_type": "code",
   "execution_count": 119,
   "metadata": {},
   "outputs": [
    {
     "data": {
      "text/plain": [
       "True"
      ]
     },
     "execution_count": 119,
     "metadata": {},
     "output_type": "execute_result"
    }
   ],
   "source": [
    "## extract features for selected recipes by users\n",
    "recip_features_df  = pd.merge(source_recipes, target_recipe, right_on = 'recipes', left_on='Name')\n",
    "\n",
    "# check if all selected recipes by users are in the orignal recipe dataset\n",
    "target_recipe.recipes.isin(source_recipes.Name).any()\n"
   ]
  },
  {
   "cell_type": "code",
   "execution_count": 120,
   "metadata": {},
   "outputs": [],
   "source": [
    "# drop useless columns\n",
    "source_recipes.drop(columns = ['URL','image_link'], inplace=True)"
   ]
  },
  {
   "cell_type": "code",
   "execution_count": 122,
   "metadata": {},
   "outputs": [
    {
     "name": "stdout",
     "output_type": "stream",
     "text": [
      "<class 'pandas.core.frame.DataFrame'>\n",
      "RangeIndex: 942 entries, 0 to 941\n",
      "Data columns (total 29 columns):\n",
      " #   Column              Non-Null Count  Dtype  \n",
      "---  ------              --------------  -----  \n",
      " 0   Name                942 non-null    object \n",
      " 1   fiber_g             942 non-null    float64\n",
      " 2   sodium_g            942 non-null    float64\n",
      " 3   carbohydrates_g     942 non-null    float64\n",
      " 4   fat_g               942 non-null    float64\n",
      " 5   protein_g           942 non-null    float64\n",
      " 6   sugar_g             942 non-null    float64\n",
      " 7   saturate_g          942 non-null    float64\n",
      " 8   size_g              942 non-null    float64\n",
      " 9   Servings            942 non-null    int64  \n",
      " 10  calories_kCal       942 non-null    int64  \n",
      " 11  category            942 non-null    object \n",
      " 12  fat_100g            942 non-null    float64\n",
      " 13  fiber_100g          942 non-null    float64\n",
      " 14  sugar_100g          942 non-null    float64\n",
      " 15  saturated_100g      942 non-null    float64\n",
      " 16  protien_100g        0 non-null      float64\n",
      " 17  sodium_100mg        942 non-null    float64\n",
      " 18  carbohydrates_100g  942 non-null    float64\n",
      " 19  kj_100g             942 non-null    float64\n",
      " 20  Nutri_score         942 non-null    object \n",
      " 21  Fsa_new             942 non-null    int64  \n",
      " 22  salt_100g           942 non-null    float64\n",
      " 23  salt_g              942 non-null    float64\n",
      " 24  fat_count           942 non-null    int64  \n",
      " 25  satfat_count        942 non-null    int64  \n",
      " 26  sugar_count         942 non-null    int64  \n",
      " 27  salt_count          942 non-null    int64  \n",
      " 28  NumberRatings       942 non-null    int64  \n",
      "dtypes: float64(18), int64(8), object(3)\n",
      "memory usage: 213.5+ KB\n"
     ]
    }
   ],
   "source": [
    "## final recipe dataset\n",
    "source_recipes.info()"
   ]
  },
  {
   "cell_type": "markdown",
   "metadata": {},
   "source": [
    "## Two Tower Model\n",
    "<p align=\"center\">\n",
    "  <img src=\"final_project.png\" alt=\"Two-Tower Model\" width=\"450\"/>\n",
    "</p>"
   ]
  },
  {
   "cell_type": "code",
   "execution_count": null,
   "metadata": {},
   "outputs": [],
   "source": []
  },
  {
   "cell_type": "code",
   "execution_count": null,
   "metadata": {},
   "outputs": [],
   "source": []
  },
  {
   "cell_type": "code",
   "execution_count": null,
   "metadata": {},
   "outputs": [],
   "source": []
  },
  {
   "cell_type": "code",
   "execution_count": null,
   "metadata": {},
   "outputs": [],
   "source": []
  }
 ],
 "metadata": {
  "language_info": {
   "name": "python"
  }
 },
 "nbformat": 4,
 "nbformat_minor": 2
}
