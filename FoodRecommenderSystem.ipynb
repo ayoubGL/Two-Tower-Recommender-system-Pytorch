{
 "cells": [
  {
   "cell_type": "markdown",
   "metadata": {},
   "source": [
    "# Healthy Personalized Food Recommender System Using Two-Tower Deep Neural Network"
   ]
  },
  {
   "cell_type": "markdown",
   "metadata": {},
   "source": [
    "# Motivation \n",
    "\n",
    "Recommender systems are designed to assist users in discovering relevant items by analyzing their preferences and generating a tailored list of suggestions. These systems effectively address the problem of choice overload, enabling users to navigate through vast amount of options with ease. By accurately predicting user preferences, recommender systems enhance user experience and satisfaction. They are widely employed across various domains, offering personalized recommendations that cater to individual needs and interest.\n",
    "Recommender system employs three different approaches to generate recommendations, collaborative filtering, content based filtering and hybrid approach. \n",
    "\n",
    "\n",
    "In the domain of food, recommender systems are utilized in various contexts such as restaurant suggestions, grocery store item personalization, and recipe recommendations. Creating an accurate food recommender system is complex due to the multifaceted nature of the food domain, which involves context, location, health preferences, and more.\n"
   ]
  },
  {
   "cell_type": "markdown",
   "metadata": {},
   "source": [
    "## Problem Formulation\n",
    "\n",
    "Deciding what and where to eat is challenging due to the vast array of available options. Online food recommender systems aim to help users find relevant food items and recipes. However, previous studies show that these systems often promote unhealthy food choices. This is primarily due to user-generated content that favors unhealthy options and the use of datasets that do not comply with health metrics like the Food Standards Agency (FSA) score and World Health Organization (WHO) guidelines.\n",
    "\n",
    "The goal of this project is to develop a ranking food recommender system that suggests top recipe recommendations. A subsequent healthiness filter will rank these recommendations based on the healthiness of the recipes, using the FSA score. The recommendation generation will be based on the well-known Two-Tower architecture, a popular deep learning approach for building recommender systems.\n",
    "\n",
    "\n",
    "The proposed model will be evaluated against a baseline: a traditional Singular Value Decomposition (SVD) collaborative filtering model. User recipe ratings will be used to assess the effectiveness of both models.\n",
    "\n",
    "The future application of this project will involve conducting a user study to provide personalized recommendations using the Two-Tower deep learning model to predict personalized recipes according to each user preference and features. A healthiness filter algorithm will select the healthiest recipes to present to users. The key evaluative question will be:\n",
    "\n",
    "To what extent does a highly personalized recommender system nudge users toward healthier food choices?\n",
    "\n",
    "This notebook is organized into the following sections:\n",
    "\n",
    "- **Dataset:** Overview of the dataset used to train the model\n",
    "- **Model Architecture:** Details of the Two-Tower deep neural network\n",
    "- **SVD Baseline:** Description of the baseline collaborative filtering model\n",
    "- **Evaluation:** Results and evaluations of the developed models"
   ]
  },
  {
   "cell_type": "markdown",
   "metadata": {},
   "source": [
    "## Dataset\n",
    "\n",
    "The dataset that we will use in this project is collected during the course line of my PhD project and the user experiments that we condactated as mean to evaluate our propesed recommender systems and digital nudges. The dataset collected from several experiments that can found :\n",
    "\n",
    "- [ [1] Nudging Towards Health? Examining the Merits of Nutrition\n",
    "Labels and Personalization in a Recipe Recommender System](https://dl.acm.org/doi/pdf/10.1145/3503252.3531312) \n",
    "- [ [2] Boosting Health? Examining the Role of Nutrition\n",
    "Labels and Preference Elicitation Methods in Food\n",
    "Recommendation](https://edepot.wur.nl/579903) \n",
    "- [ [3] The Interplay between Food Knowledge, Nudges, and\n",
    "Preference Elicitation Methods Determines the\n",
    "Evaluation of a Recipe Recommender System](https://ceur-ws.org/Vol-3534/paper1.pdf) \n",
    "- [ [4] Nudging towards sustainable recipes: Nudging towards sustainable recipes, Internal project]()\n",
    "\n",
    "\n",
    "### Data Preparation and EDA"
   ]
  },
  {
   "cell_type": "markdown",
   "metadata": {},
   "source": [
    "- The dataset is from different projects and the main idea is to construct training data from the previously collected data: user features dataset and a dataframe that describes recipe features."
   ]
  },
  {
   "cell_type": "code",
   "execution_count": 2,
   "metadata": {},
   "outputs": [],
   "source": [
    "## import libraries\n",
    "import pandas as pd\n",
    "import numpy as np\n",
    "import matplotlib.pyplot as plt"
   ]
  },
  {
   "cell_type": "markdown",
   "metadata": {},
   "source": [
    "#### User Features\n",
    "Construct a user training dataset that describes each user through various features, derived by combining different dataframes from the above projects."
   ]
  },
  {
   "cell_type": "code",
   "execution_count": 3,
   "metadata": {},
   "outputs": [],
   "source": [
    "##  user data from Nudging towards healthy food choice [1]\n",
    "nudge_pers_df = pd.read_csv('./Dataset/Nudging_personalization.csv')\n",
    "\n",
    "## user data from Boosting healthy [2]\n",
    "boosting_heal_df = pd.read_csv('./Dataset/PE_boost_nudge_study.csv')\n",
    "\n",
    "## user data from Interplay between food knowledge and preference elicitation [3]\n",
    "preference_user_df = pd.read_csv('./Dataset/PE_elicitation.csv')\n",
    "\n",
    "## sustainability data\n",
    "sustainability_user_id = pd.read_csv('./Dataset/Sustainability_data.csv')"
   ]
  },
  {
   "cell_type": "markdown",
   "metadata": {},
   "source": [
    "- Select useful features from each DF"
   ]
  },
  {
   "cell_type": "code",
   "execution_count": 4,
   "metadata": {},
   "outputs": [
    {
     "name": "stdout",
     "output_type": "stream",
     "text": [
      "<class 'pandas.core.frame.DataFrame'>\n",
      "RangeIndex: 300 entries, 0 to 299\n",
      "Data columns (total 22 columns):\n",
      " #   Column               Non-Null Count  Dtype \n",
      "---  ------               --------------  ----- \n",
      " 0   person               300 non-null    int64 \n",
      " 1   age                  300 non-null    object\n",
      " 2   country              300 non-null    object\n",
      " 3   education            300 non-null    object\n",
      " 4   diet_restriction     300 non-null    object\n",
      " 5   diet_goal            300 non-null    object\n",
      " 6   cooking_exp          300 non-null    object\n",
      " 7   eating_habits        300 non-null    object\n",
      " 8   gender               300 non-null    object\n",
      " 9   recipe_name          300 non-null    object\n",
      " 10  healthiness          300 non-null    object\n",
      " 11  Nutri_score          300 non-null    object\n",
      " 12  fsa_score            300 non-null    int64 \n",
      " 13  recommend_recipe     300 non-null    object\n",
      " 14  become_favorite      300 non-null    object\n",
      " 15  enjoy_eating         300 non-null    object\n",
      " 16  many_to_choose       300 non-null    object\n",
      " 17  easy_choice          300 non-null    object\n",
      " 18  choice_overwhelming  300 non-null    object\n",
      " 19  condition            300 non-null    int64 \n",
      " 20  num_nutri            300 non-null    int64 \n",
      " 21  str_condition        300 non-null    object\n",
      "dtypes: int64(4), object(18)\n",
      "memory usage: 51.7+ KB\n"
     ]
    }
   ],
   "source": [
    "## DF [1]\n",
    "nudge_pers_df.info()\n",
    "nudge_pers_df = nudge_pers_df[['person','age','country','education','diet_restriction','diet_goal', \n",
    "                               'cooking_exp','eating_habits','gender','recipe_name']] "
   ]
  },
  {
   "cell_type": "code",
   "execution_count": 5,
   "metadata": {},
   "outputs": [
    {
     "name": "stdout",
     "output_type": "stream",
     "text": [
      "<class 'pandas.core.frame.DataFrame'>\n",
      "RangeIndex: 243 entries, 0 to 242\n",
      "Data columns (total 35 columns):\n",
      " #   Column               Non-Null Count  Dtype  \n",
      "---  ------               --------------  -----  \n",
      " 0   person               243 non-null    int64  \n",
      " 1   age                  243 non-null    object \n",
      " 2   country              243 non-null    object \n",
      " 3   education            243 non-null    object \n",
      " 4   gender               243 non-null    object \n",
      " 5   FK_1                 243 non-null    int64  \n",
      " 6   FK_2                 243 non-null    int64  \n",
      " 7   FK_3                 243 non-null    int64  \n",
      " 8   FK_4                 243 non-null    int64  \n",
      " 9   FK_5                 243 non-null    int64  \n",
      " 10  category             243 non-null    object \n",
      " 11  recipe_id            243 non-null    int64  \n",
      " 12  recipe_name          243 non-null    object \n",
      " 13  Nutri_score          243 non-null    object \n",
      " 14  fsa_score            243 non-null    int64  \n",
      " 15  healthiness          243 non-null    object \n",
      " 16  title                243 non-null    object \n",
      " 17  liked_recipes        243 non-null    int64  \n",
      " 18  prepare_recipes      243 non-null    int64  \n",
      " 19  fit_preference       243 non-null    int64  \n",
      " 20  know_many            243 non-null    int64  \n",
      " 21  recommend_recipe     243 non-null    int64  \n",
      " 22  many_to_choose       243 non-null    int64  \n",
      " 23  easy_choice          243 non-null    int64  \n",
      " 24  choice_overwhelming  243 non-null    int64  \n",
      " 25  sys_time             243 non-null    int64  \n",
      " 26  unders_sys           243 non-null    int64  \n",
      " 27  many_actions         243 non-null    int64  \n",
      " 28  condition            243 non-null    object \n",
      " 29  recommender          243 non-null    object \n",
      " 30  recipe_popularity    121 non-null    float64\n",
      " 31  calories             121 non-null    float64\n",
      " 32  recipe_size          121 non-null    float64\n",
      " 33  preparation_time     121 non-null    float64\n",
      " 34  n_ingredient         121 non-null    float64\n",
      "dtypes: float64(5), int64(19), object(11)\n",
      "memory usage: 66.6+ KB\n"
     ]
    }
   ],
   "source": [
    "## DF [2]\n",
    "boosting_heal_df.info()\n",
    "boosting_heal_df = boosting_heal_df[['person','age','country','education','gender','recipe_name']] "
   ]
  },
  {
   "cell_type": "code",
   "execution_count": 6,
   "metadata": {},
   "outputs": [
    {
     "name": "stdout",
     "output_type": "stream",
     "text": [
      "<class 'pandas.core.frame.DataFrame'>\n",
      "RangeIndex: 360 entries, 0 to 359\n",
      "Data columns (total 42 columns):\n",
      " #   Column               Non-Null Count  Dtype  \n",
      "---  ------               --------------  -----  \n",
      " 0   person               360 non-null    int64  \n",
      " 1   age                  360 non-null    object \n",
      " 2   country              360 non-null    object \n",
      " 3   education            360 non-null    object \n",
      " 4   gender               360 non-null    object \n",
      " 5   FK_9                 360 non-null    int64  \n",
      " 6   FK_10                360 non-null    int64  \n",
      " 7   FK_11                360 non-null    int64  \n",
      " 8   FK_12                360 non-null    int64  \n",
      " 9   Height               180 non-null    float64\n",
      " 10  Weight               180 non-null    float64\n",
      " 11  RecipeWebUsage       180 non-null    object \n",
      " 12  HomeCook             180 non-null    object \n",
      " 13  CookingExp           180 non-null    object \n",
      " 14  EatingGoals          180 non-null    object \n",
      " 15  Depression           180 non-null    object \n",
      " 16  PhysicalActivity     180 non-null    object \n",
      " 17  SleepHours           180 non-null    object \n",
      " 18  CookingTime          180 non-null    object \n",
      " 19  recipe_id            360 non-null    int64  \n",
      " 20  recipe_name          360 non-null    object \n",
      " 21  Nutri_score          360 non-null    object \n",
      " 22  fsa_score            360 non-null    int64  \n",
      " 23  healthiness          360 non-null    object \n",
      " 24  liked_recipes        360 non-null    int64  \n",
      " 25  prepare_recipes      360 non-null    int64  \n",
      " 26  fit_preference       360 non-null    int64  \n",
      " 27  know_many            360 non-null    int64  \n",
      " 28  recommend_recipe     360 non-null    int64  \n",
      " 29  many_to_choose       360 non-null    int64  \n",
      " 30  easy_choice          360 non-null    int64  \n",
      " 31  choice_overwhelming  360 non-null    int64  \n",
      " 32  sys_time             360 non-null    int64  \n",
      " 33  unders_sys           360 non-null    int64  \n",
      " 34  many_actions         360 non-null    int64  \n",
      " 35  condition            360 non-null    object \n",
      " 36  N_condition          360 non-null    int64  \n",
      " 37  choice_satisfaction  360 non-null    float64\n",
      " 38  choice_difficulty    360 non-null    float64\n",
      " 39  perceived_effort     360 non-null    float64\n",
      " 40  SFD                  360 non-null    float64\n",
      " 41  PE                   360 non-null    object \n",
      "dtypes: float64(6), int64(19), object(17)\n",
      "memory usage: 118.2+ KB\n"
     ]
    }
   ],
   "source": [
    "## DF [3] \n",
    "preference_user_df.info()\n",
    "preference_user_df = preference_user_df[['person','age','country','education','gender','recipe_name','Height',\n",
    "                                         'Weight','RecipeWebUsage','HomeCook','CookingExp',\n",
    "                                         'EatingGoals','Depression','PhysicalActivity','SleepHours',\n",
    "                                         'CookingTime']] "
   ]
  },
  {
   "cell_type": "code",
   "execution_count": 7,
   "metadata": {},
   "outputs": [
    {
     "name": "stdout",
     "output_type": "stream",
     "text": [
      "<class 'pandas.core.frame.DataFrame'>\n",
      "RangeIndex: 200 entries, 0 to 199\n",
      "Data columns (total 23 columns):\n",
      " #   Column               Non-Null Count  Dtype  \n",
      "---  ------               --------------  -----  \n",
      " 0   person               200 non-null    int64  \n",
      " 1   age                  200 non-null    object \n",
      " 2   country              200 non-null    object \n",
      " 3   education            200 non-null    object \n",
      " 4   diet_restriction     200 non-null    object \n",
      " 5   diet_goal            200 non-null    object \n",
      " 6   cooking_exp          200 non-null    object \n",
      " 7   eating_habits        200 non-null    object \n",
      " 8   gender               200 non-null    object \n",
      " 9   category             200 non-null    object \n",
      " 10  recipe_name          200 non-null    object \n",
      " 11  healthiness          200 non-null    object \n",
      " 12  Nutri_score          200 non-null    object \n",
      " 13  fsa_score            200 non-null    int64  \n",
      " 14  SValue_Nor           200 non-null    float64\n",
      " 15  Slabel               200 non-null    object \n",
      " 16  recommend_recipe     200 non-null    object \n",
      " 17  become_favorite      200 non-null    object \n",
      " 18  enjoy_eating         200 non-null    object \n",
      " 19  many_to_choose       200 non-null    object \n",
      " 20  easy_choice          200 non-null    object \n",
      " 21  choice_overwhelming  200 non-null    object \n",
      " 22  condition            200 non-null    object \n",
      "dtypes: float64(1), int64(2), object(20)\n",
      "memory usage: 36.1+ KB\n"
     ]
    }
   ],
   "source": [
    "## DF [4] \n",
    "sustainability_user_id.info()\n",
    "sustainability_user_id = sustainability_user_id[['person','age','country','education','gender',\n",
    "                                 'recipe_name','diet_restriction','diet_goal','cooking_exp','eating_habits']] "
   ]
  },
  {
   "cell_type": "code",
   "execution_count": 8,
   "metadata": {},
   "outputs": [],
   "source": [
    "## User Dataset concatenation based on user id (person)\n",
    "\n",
    "# change the user_id to avoid intersection of different person\n",
    "boosting_heal_df[['person']] = boosting_heal_df[['person']] + nudge_pers_df[['person']].max() + 1000\n",
    "preference_user_df[['person']] = preference_user_df[['person']] + boosting_heal_df[['person']].max() + 1000\n",
    "sustainability_user_id[['person']] = sustainability_user_id[['person']] + preference_user_df[['person']].max() + 1000"
   ]
  },
  {
   "cell_type": "code",
   "execution_count": 9,
   "metadata": {},
   "outputs": [
    {
     "name": "stdout",
     "output_type": "stream",
     "text": [
      "4 2132\n",
      "3148 8204\n",
      "14275 16385\n"
     ]
    }
   ],
   "source": [
    "print(nudge_pers_df.person.min(), nudge_pers_df.person.max())\n",
    "print(boosting_heal_df.person.min(), boosting_heal_df.person.max())\n",
    "print(sustainability_user_id.person.min(), sustainability_user_id.person.max())"
   ]
  },
  {
   "cell_type": "code",
   "execution_count": 10,
   "metadata": {},
   "outputs": [],
   "source": [
    "### concatenate all user data to construct user DataFrame\n",
    "user_features_DF = pd.concat([nudge_pers_df, boosting_heal_df, sustainability_user_id], axis=0, ignore_index=True)\n",
    "user_features_DF.to_csv('./Dataset/user_features_df.csv', index=False)"
   ]
  },
  {
   "cell_type": "code",
   "execution_count": 11,
   "metadata": {},
   "outputs": [
    {
     "data": {
      "text/plain": [
       "person                0\n",
       "age                   0\n",
       "country               0\n",
       "education             0\n",
       "diet_restriction    243\n",
       "diet_goal           243\n",
       "cooking_exp         243\n",
       "eating_habits       243\n",
       "gender                0\n",
       "recipe_name           0\n",
       "dtype: int64"
      ]
     },
     "execution_count": 11,
     "metadata": {},
     "output_type": "execute_result"
    }
   ],
   "source": [
    "## Fill NAN features\n",
    "user_features_DF.isna().sum()"
   ]
  },
  {
   "cell_type": "code",
   "execution_count": 12,
   "metadata": {},
   "outputs": [
    {
     "data": {
      "text/html": [
       "<div>\n",
       "<style scoped>\n",
       "    .dataframe tbody tr th:only-of-type {\n",
       "        vertical-align: middle;\n",
       "    }\n",
       "\n",
       "    .dataframe tbody tr th {\n",
       "        vertical-align: top;\n",
       "    }\n",
       "\n",
       "    .dataframe thead th {\n",
       "        text-align: right;\n",
       "    }\n",
       "</style>\n",
       "<table border=\"1\" class=\"dataframe\">\n",
       "  <thead>\n",
       "    <tr style=\"text-align: right;\">\n",
       "      <th></th>\n",
       "      <th>diet_restriction</th>\n",
       "      <th>diet_goal</th>\n",
       "      <th>cooking_exp</th>\n",
       "      <th>eating_habits</th>\n",
       "    </tr>\n",
       "  </thead>\n",
       "  <tbody>\n",
       "    <tr>\n",
       "      <th>0</th>\n",
       "      <td>No dietary restrictions</td>\n",
       "      <td>No goals</td>\n",
       "      <td>Low</td>\n",
       "      <td>Unhealthy</td>\n",
       "    </tr>\n",
       "    <tr>\n",
       "      <th>1</th>\n",
       "      <td>No dietary restrictions</td>\n",
       "      <td>Eat less salt,Eat less sugar,Eat more fruit,Ea...</td>\n",
       "      <td>Medium</td>\n",
       "      <td>Neither_healthy_no_unhealthy</td>\n",
       "    </tr>\n",
       "    <tr>\n",
       "      <th>2</th>\n",
       "      <td>No dietary restrictions</td>\n",
       "      <td>Lose weight</td>\n",
       "      <td>Low</td>\n",
       "      <td>Neither_healthy_no_unhealthy</td>\n",
       "    </tr>\n",
       "    <tr>\n",
       "      <th>3</th>\n",
       "      <td>No dietary restrictions</td>\n",
       "      <td>No goals</td>\n",
       "      <td>High</td>\n",
       "      <td>Neither_healthy_no_unhealthy</td>\n",
       "    </tr>\n",
       "    <tr>\n",
       "      <th>4</th>\n",
       "      <td>No dietary restrictions</td>\n",
       "      <td>Eat more fruit</td>\n",
       "      <td>High</td>\n",
       "      <td>Healthy</td>\n",
       "    </tr>\n",
       "    <tr>\n",
       "      <th>...</th>\n",
       "      <td>...</td>\n",
       "      <td>...</td>\n",
       "      <td>...</td>\n",
       "      <td>...</td>\n",
       "    </tr>\n",
       "    <tr>\n",
       "      <th>738</th>\n",
       "      <td>['Lactose intolerance']</td>\n",
       "      <td>['Lose weight']</td>\n",
       "      <td>Medium</td>\n",
       "      <td>Very_unhealthy</td>\n",
       "    </tr>\n",
       "    <tr>\n",
       "      <th>739</th>\n",
       "      <td>['No dietary restrictions']</td>\n",
       "      <td>['Eat less salt', ' Gain weight']</td>\n",
       "      <td>Medium</td>\n",
       "      <td>Unhealthy</td>\n",
       "    </tr>\n",
       "    <tr>\n",
       "      <th>740</th>\n",
       "      <td>['Lactose intolerance', ' Vegetarian']</td>\n",
       "      <td>['No goals', ' Eat more fruit', ' Eat more pro...</td>\n",
       "      <td>High</td>\n",
       "      <td>Healthy</td>\n",
       "    </tr>\n",
       "    <tr>\n",
       "      <th>741</th>\n",
       "      <td>['Gluten free', ' Lactose intolerance']</td>\n",
       "      <td>['No goals']</td>\n",
       "      <td>Low</td>\n",
       "      <td>Very_unhealthy</td>\n",
       "    </tr>\n",
       "    <tr>\n",
       "      <th>742</th>\n",
       "      <td>['No dietary restrictions', ' Gluten free', ' ...</td>\n",
       "      <td>['Eat more fruit', ' Eat more protein', ' Eat ...</td>\n",
       "      <td>Medium</td>\n",
       "      <td>Healthy</td>\n",
       "    </tr>\n",
       "  </tbody>\n",
       "</table>\n",
       "<p>743 rows × 4 columns</p>\n",
       "</div>"
      ],
      "text/plain": [
       "                                      diet_restriction  \\\n",
       "0                              No dietary restrictions   \n",
       "1                              No dietary restrictions   \n",
       "2                              No dietary restrictions   \n",
       "3                              No dietary restrictions   \n",
       "4                              No dietary restrictions   \n",
       "..                                                 ...   \n",
       "738                            ['Lactose intolerance']   \n",
       "739                        ['No dietary restrictions']   \n",
       "740             ['Lactose intolerance', ' Vegetarian']   \n",
       "741            ['Gluten free', ' Lactose intolerance']   \n",
       "742  ['No dietary restrictions', ' Gluten free', ' ...   \n",
       "\n",
       "                                             diet_goal cooking_exp  \\\n",
       "0                                             No goals         Low   \n",
       "1    Eat less salt,Eat less sugar,Eat more fruit,Ea...      Medium   \n",
       "2                                          Lose weight         Low   \n",
       "3                                             No goals        High   \n",
       "4                                       Eat more fruit        High   \n",
       "..                                                 ...         ...   \n",
       "738                                    ['Lose weight']      Medium   \n",
       "739                  ['Eat less salt', ' Gain weight']      Medium   \n",
       "740  ['No goals', ' Eat more fruit', ' Eat more pro...        High   \n",
       "741                                       ['No goals']         Low   \n",
       "742  ['Eat more fruit', ' Eat more protein', ' Eat ...      Medium   \n",
       "\n",
       "                    eating_habits  \n",
       "0                       Unhealthy  \n",
       "1    Neither_healthy_no_unhealthy  \n",
       "2    Neither_healthy_no_unhealthy  \n",
       "3    Neither_healthy_no_unhealthy  \n",
       "4                         Healthy  \n",
       "..                            ...  \n",
       "738                Very_unhealthy  \n",
       "739                     Unhealthy  \n",
       "740                       Healthy  \n",
       "741                Very_unhealthy  \n",
       "742                       Healthy  \n",
       "\n",
       "[743 rows x 4 columns]"
      ]
     },
     "execution_count": 12,
     "metadata": {},
     "output_type": "execute_result"
    }
   ],
   "source": [
    "# features with nan values\n",
    "user_features_DF[['diet_restriction','diet_goal','cooking_exp','eating_habits']] "
   ]
  },
  {
   "cell_type": "code",
   "execution_count": 13,
   "metadata": {},
   "outputs": [],
   "source": [
    "## Replace Na values\n",
    "## assuming that all users will have neutral value of features with NA\n",
    "user_features_DF.fillna(\n",
    "    {\n",
    "    'diet_restriction':'No dietary restrictions',\n",
    "    'diet_goal'       :'No goals',\n",
    "    'cooking_exp'     : 'Medium',\n",
    "    'eating_habits'    :'Neither_healthy_no_unhealthy', \n",
    "    }\n",
    ", inplace=True)"
   ]
  },
  {
   "cell_type": "code",
   "execution_count": 14,
   "metadata": {},
   "outputs": [
    {
     "name": "stdout",
     "output_type": "stream",
     "text": [
      "<class 'pandas.core.frame.DataFrame'>\n",
      "RangeIndex: 743 entries, 0 to 742\n",
      "Data columns (total 10 columns):\n",
      " #   Column            Non-Null Count  Dtype \n",
      "---  ------            --------------  ----- \n",
      " 0   person            743 non-null    int64 \n",
      " 1   age               743 non-null    object\n",
      " 2   country           743 non-null    object\n",
      " 3   education         743 non-null    object\n",
      " 4   diet_restriction  743 non-null    object\n",
      " 5   diet_goal         743 non-null    object\n",
      " 6   cooking_exp       743 non-null    object\n",
      " 7   eating_habits     743 non-null    object\n",
      " 8   gender            743 non-null    object\n",
      " 9   recipe_name       743 non-null    object\n",
      "dtypes: int64(1), object(9)\n",
      "memory usage: 58.2+ KB\n"
     ]
    }
   ],
   "source": [
    "user_features_DF.info()"
   ]
  },
  {
   "cell_type": "code",
   "execution_count": 15,
   "metadata": {},
   "outputs": [
    {
     "data": {
      "text/html": [
       "<div>\n",
       "<style scoped>\n",
       "    .dataframe tbody tr th:only-of-type {\n",
       "        vertical-align: middle;\n",
       "    }\n",
       "\n",
       "    .dataframe tbody tr th {\n",
       "        vertical-align: top;\n",
       "    }\n",
       "\n",
       "    .dataframe thead th {\n",
       "        text-align: right;\n",
       "    }\n",
       "</style>\n",
       "<table border=\"1\" class=\"dataframe\">\n",
       "  <thead>\n",
       "    <tr style=\"text-align: right;\">\n",
       "      <th></th>\n",
       "      <th>person</th>\n",
       "      <th>age</th>\n",
       "      <th>country</th>\n",
       "      <th>education</th>\n",
       "      <th>diet_restriction</th>\n",
       "      <th>diet_goal</th>\n",
       "      <th>cooking_exp</th>\n",
       "      <th>eating_habits</th>\n",
       "      <th>gender</th>\n",
       "      <th>recipe_name</th>\n",
       "      <th>user_id</th>\n",
       "      <th>recipe_id</th>\n",
       "    </tr>\n",
       "  </thead>\n",
       "  <tbody>\n",
       "    <tr>\n",
       "      <th>0</th>\n",
       "      <td>4</td>\n",
       "      <td>b35_45</td>\n",
       "      <td>US</td>\n",
       "      <td>BA</td>\n",
       "      <td>No dietary restrictions</td>\n",
       "      <td>No goals</td>\n",
       "      <td>Low</td>\n",
       "      <td>Unhealthy</td>\n",
       "      <td>Male</td>\n",
       "      <td>Ray's Chicken</td>\n",
       "      <td>4</td>\n",
       "      <td>128</td>\n",
       "    </tr>\n",
       "    <tr>\n",
       "      <th>1</th>\n",
       "      <td>5</td>\n",
       "      <td>b25_35</td>\n",
       "      <td>US</td>\n",
       "      <td>High_school</td>\n",
       "      <td>No dietary restrictions</td>\n",
       "      <td>Eat less salt,Eat less sugar,Eat more fruit,Ea...</td>\n",
       "      <td>Medium</td>\n",
       "      <td>Neither_healthy_no_unhealthy</td>\n",
       "      <td>Male</td>\n",
       "      <td>Sarge's EZ Pulled Pork BBQ</td>\n",
       "      <td>5</td>\n",
       "      <td>141</td>\n",
       "    </tr>\n",
       "    <tr>\n",
       "      <th>2</th>\n",
       "      <td>6</td>\n",
       "      <td>b35_45</td>\n",
       "      <td>US</td>\n",
       "      <td>BA</td>\n",
       "      <td>No dietary restrictions</td>\n",
       "      <td>Lose weight</td>\n",
       "      <td>Low</td>\n",
       "      <td>Neither_healthy_no_unhealthy</td>\n",
       "      <td>Male</td>\n",
       "      <td>Bow Ties with Sausage' Tomatoes and Cream</td>\n",
       "      <td>6</td>\n",
       "      <td>28</td>\n",
       "    </tr>\n",
       "    <tr>\n",
       "      <th>3</th>\n",
       "      <td>7</td>\n",
       "      <td>b25_35</td>\n",
       "      <td>US</td>\n",
       "      <td>High_school</td>\n",
       "      <td>No dietary restrictions</td>\n",
       "      <td>No goals</td>\n",
       "      <td>High</td>\n",
       "      <td>Neither_healthy_no_unhealthy</td>\n",
       "      <td>Male</td>\n",
       "      <td>Scott Hibb's Amazing Whisky Grilled Baby Back ...</td>\n",
       "      <td>7</td>\n",
       "      <td>143</td>\n",
       "    </tr>\n",
       "    <tr>\n",
       "      <th>4</th>\n",
       "      <td>9</td>\n",
       "      <td>b25_35</td>\n",
       "      <td>US</td>\n",
       "      <td>BA</td>\n",
       "      <td>No dietary restrictions</td>\n",
       "      <td>Eat more fruit</td>\n",
       "      <td>High</td>\n",
       "      <td>Healthy</td>\n",
       "      <td>Female</td>\n",
       "      <td>Pizza Without the Red Sauce</td>\n",
       "      <td>9</td>\n",
       "      <td>121</td>\n",
       "    </tr>\n",
       "  </tbody>\n",
       "</table>\n",
       "</div>"
      ],
      "text/plain": [
       "   person     age country    education         diet_restriction  \\\n",
       "0       4  b35_45      US           BA  No dietary restrictions   \n",
       "1       5  b25_35      US  High_school  No dietary restrictions   \n",
       "2       6  b35_45      US           BA  No dietary restrictions   \n",
       "3       7  b25_35      US  High_school  No dietary restrictions   \n",
       "4       9  b25_35      US           BA  No dietary restrictions   \n",
       "\n",
       "                                           diet_goal cooking_exp  \\\n",
       "0                                           No goals         Low   \n",
       "1  Eat less salt,Eat less sugar,Eat more fruit,Ea...      Medium   \n",
       "2                                        Lose weight         Low   \n",
       "3                                           No goals        High   \n",
       "4                                     Eat more fruit        High   \n",
       "\n",
       "                  eating_habits  gender  \\\n",
       "0                     Unhealthy    Male   \n",
       "1  Neither_healthy_no_unhealthy    Male   \n",
       "2  Neither_healthy_no_unhealthy    Male   \n",
       "3  Neither_healthy_no_unhealthy    Male   \n",
       "4                       Healthy  Female   \n",
       "\n",
       "                                         recipe_name  user_id  recipe_id  \n",
       "0                                      Ray's Chicken        4        128  \n",
       "1                         Sarge's EZ Pulled Pork BBQ        5        141  \n",
       "2          Bow Ties with Sausage' Tomatoes and Cream        6         28  \n",
       "3  Scott Hibb's Amazing Whisky Grilled Baby Back ...        7        143  \n",
       "4                        Pizza Without the Red Sauce        9        121  "
      ]
     },
     "execution_count": 15,
     "metadata": {},
     "output_type": "execute_result"
    }
   ],
   "source": [
    "## add id to chosen recipe and user\n",
    "user_features_DF['user_id'] = user_features_DF['person']\n",
    "user_features_DF['recipe_id'] = pd.Categorical(user_features_DF['recipe_name']).codes\n",
    "user_features_DF.head()"
   ]
  },
  {
   "cell_type": "markdown",
   "metadata": {},
   "source": [
    "- The target feature from the user data is the recipe chosen by the user, represented by the recipe name"
   ]
  },
  {
   "cell_type": "code",
   "execution_count": 16,
   "metadata": {},
   "outputs": [
    {
     "data": {
      "text/html": [
       "<div>\n",
       "<style scoped>\n",
       "    .dataframe tbody tr th:only-of-type {\n",
       "        vertical-align: middle;\n",
       "    }\n",
       "\n",
       "    .dataframe tbody tr th {\n",
       "        vertical-align: top;\n",
       "    }\n",
       "\n",
       "    .dataframe thead th {\n",
       "        text-align: right;\n",
       "    }\n",
       "</style>\n",
       "<table border=\"1\" class=\"dataframe\">\n",
       "  <thead>\n",
       "    <tr style=\"text-align: right;\">\n",
       "      <th></th>\n",
       "      <th>recipes</th>\n",
       "    </tr>\n",
       "  </thead>\n",
       "  <tbody>\n",
       "    <tr>\n",
       "      <th>0</th>\n",
       "      <td>Ray's Chicken</td>\n",
       "    </tr>\n",
       "    <tr>\n",
       "      <th>1</th>\n",
       "      <td>Sarge's EZ Pulled Pork BBQ</td>\n",
       "    </tr>\n",
       "    <tr>\n",
       "      <th>2</th>\n",
       "      <td>Bow Ties with Sausage' Tomatoes and Cream</td>\n",
       "    </tr>\n",
       "    <tr>\n",
       "      <th>3</th>\n",
       "      <td>Scott Hibb's Amazing Whisky Grilled Baby Back ...</td>\n",
       "    </tr>\n",
       "    <tr>\n",
       "      <th>4</th>\n",
       "      <td>Pizza Without the Red Sauce</td>\n",
       "    </tr>\n",
       "    <tr>\n",
       "      <th>...</th>\n",
       "      <td>...</td>\n",
       "    </tr>\n",
       "    <tr>\n",
       "      <th>184</th>\n",
       "      <td>Chicken In Basil Cream</td>\n",
       "    </tr>\n",
       "    <tr>\n",
       "      <th>185</th>\n",
       "      <td>Rosemary Lemon Grilled Chicken</td>\n",
       "    </tr>\n",
       "    <tr>\n",
       "      <th>186</th>\n",
       "      <td>Beef Bulgogi</td>\n",
       "    </tr>\n",
       "    <tr>\n",
       "      <th>187</th>\n",
       "      <td>Honey Garlic Ribs</td>\n",
       "    </tr>\n",
       "    <tr>\n",
       "      <th>188</th>\n",
       "      <td>Spicy Rapid Roast Chicken</td>\n",
       "    </tr>\n",
       "  </tbody>\n",
       "</table>\n",
       "<p>189 rows × 1 columns</p>\n",
       "</div>"
      ],
      "text/plain": [
       "                                               recipes\n",
       "0                                        Ray's Chicken\n",
       "1                           Sarge's EZ Pulled Pork BBQ\n",
       "2            Bow Ties with Sausage' Tomatoes and Cream\n",
       "3    Scott Hibb's Amazing Whisky Grilled Baby Back ...\n",
       "4                          Pizza Without the Red Sauce\n",
       "..                                                 ...\n",
       "184                             Chicken In Basil Cream\n",
       "185                     Rosemary Lemon Grilled Chicken\n",
       "186                                       Beef Bulgogi\n",
       "187                                  Honey Garlic Ribs\n",
       "188                          Spicy Rapid Roast Chicken\n",
       "\n",
       "[189 rows x 1 columns]"
      ]
     },
     "execution_count": 16,
     "metadata": {},
     "output_type": "execute_result"
    }
   ],
   "source": [
    "# extract unique selected recipes by the user\n",
    "target_recipe = pd.DataFrame(user_features_DF['recipe_name'].unique(), columns=['recipes'])\n",
    "target_recipe"
   ]
  },
  {
   "cell_type": "markdown",
   "metadata": {},
   "source": [
    "- create a column that indicate if user interact with a recipe or not, 1 if the user choses the recipes, 0 if not "
   ]
  },
  {
   "cell_type": "code",
   "execution_count": 17,
   "metadata": {},
   "outputs": [],
   "source": [
    "users = user_features_DF['user_id'].unique()\n",
    "recipes = user_features_DF['recipe_id'].unique()\n",
    "\n",
    "# (all combinations of users and recipes)\n",
    "user_recipe_df = pd.MultiIndex.from_product([users, recipes], names= ['user_id','recipe_id']).to_frame(index=False)\n",
    "\n",
    "# Add chosen index\n",
    "user_recipe_df['chosen'] = user_recipe_df.merge(user_recipe_df.assign(chosen=1), on=['user_id', 'recipe_id'], how='left')['chosen'].fillna(0).astype(int)\n",
    "\n",
    "# Merge with  all user features\n",
    "user_features_DF = user_features_DF.merge(user_recipe_df, on='user_id')"
   ]
  },
  {
   "cell_type": "code",
   "execution_count": 18,
   "metadata": {},
   "outputs": [
    {
     "data": {
      "text/html": [
       "<div>\n",
       "<style scoped>\n",
       "    .dataframe tbody tr th:only-of-type {\n",
       "        vertical-align: middle;\n",
       "    }\n",
       "\n",
       "    .dataframe tbody tr th {\n",
       "        vertical-align: top;\n",
       "    }\n",
       "\n",
       "    .dataframe thead th {\n",
       "        text-align: right;\n",
       "    }\n",
       "</style>\n",
       "<table border=\"1\" class=\"dataframe\">\n",
       "  <thead>\n",
       "    <tr style=\"text-align: right;\">\n",
       "      <th></th>\n",
       "      <th>person</th>\n",
       "      <th>age</th>\n",
       "      <th>country</th>\n",
       "      <th>education</th>\n",
       "      <th>diet_restriction</th>\n",
       "      <th>diet_goal</th>\n",
       "      <th>cooking_exp</th>\n",
       "      <th>eating_habits</th>\n",
       "      <th>gender</th>\n",
       "      <th>recipe_name</th>\n",
       "      <th>user_id</th>\n",
       "      <th>recipe_id_x</th>\n",
       "      <th>recipe_id_y</th>\n",
       "      <th>chosen</th>\n",
       "    </tr>\n",
       "  </thead>\n",
       "  <tbody>\n",
       "    <tr>\n",
       "      <th>0</th>\n",
       "      <td>4</td>\n",
       "      <td>b35_45</td>\n",
       "      <td>US</td>\n",
       "      <td>BA</td>\n",
       "      <td>No dietary restrictions</td>\n",
       "      <td>No goals</td>\n",
       "      <td>Low</td>\n",
       "      <td>Unhealthy</td>\n",
       "      <td>Male</td>\n",
       "      <td>Ray's Chicken</td>\n",
       "      <td>4</td>\n",
       "      <td>128</td>\n",
       "      <td>128</td>\n",
       "      <td>1</td>\n",
       "    </tr>\n",
       "    <tr>\n",
       "      <th>1</th>\n",
       "      <td>4</td>\n",
       "      <td>b35_45</td>\n",
       "      <td>US</td>\n",
       "      <td>BA</td>\n",
       "      <td>No dietary restrictions</td>\n",
       "      <td>No goals</td>\n",
       "      <td>Low</td>\n",
       "      <td>Unhealthy</td>\n",
       "      <td>Male</td>\n",
       "      <td>Ray's Chicken</td>\n",
       "      <td>4</td>\n",
       "      <td>128</td>\n",
       "      <td>141</td>\n",
       "      <td>1</td>\n",
       "    </tr>\n",
       "    <tr>\n",
       "      <th>2</th>\n",
       "      <td>4</td>\n",
       "      <td>b35_45</td>\n",
       "      <td>US</td>\n",
       "      <td>BA</td>\n",
       "      <td>No dietary restrictions</td>\n",
       "      <td>No goals</td>\n",
       "      <td>Low</td>\n",
       "      <td>Unhealthy</td>\n",
       "      <td>Male</td>\n",
       "      <td>Ray's Chicken</td>\n",
       "      <td>4</td>\n",
       "      <td>128</td>\n",
       "      <td>28</td>\n",
       "      <td>1</td>\n",
       "    </tr>\n",
       "    <tr>\n",
       "      <th>3</th>\n",
       "      <td>4</td>\n",
       "      <td>b35_45</td>\n",
       "      <td>US</td>\n",
       "      <td>BA</td>\n",
       "      <td>No dietary restrictions</td>\n",
       "      <td>No goals</td>\n",
       "      <td>Low</td>\n",
       "      <td>Unhealthy</td>\n",
       "      <td>Male</td>\n",
       "      <td>Ray's Chicken</td>\n",
       "      <td>4</td>\n",
       "      <td>128</td>\n",
       "      <td>143</td>\n",
       "      <td>1</td>\n",
       "    </tr>\n",
       "    <tr>\n",
       "      <th>4</th>\n",
       "      <td>4</td>\n",
       "      <td>b35_45</td>\n",
       "      <td>US</td>\n",
       "      <td>BA</td>\n",
       "      <td>No dietary restrictions</td>\n",
       "      <td>No goals</td>\n",
       "      <td>Low</td>\n",
       "      <td>Unhealthy</td>\n",
       "      <td>Male</td>\n",
       "      <td>Ray's Chicken</td>\n",
       "      <td>4</td>\n",
       "      <td>128</td>\n",
       "      <td>121</td>\n",
       "      <td>1</td>\n",
       "    </tr>\n",
       "  </tbody>\n",
       "</table>\n",
       "</div>"
      ],
      "text/plain": [
       "   person     age country education         diet_restriction diet_goal  \\\n",
       "0       4  b35_45      US        BA  No dietary restrictions  No goals   \n",
       "1       4  b35_45      US        BA  No dietary restrictions  No goals   \n",
       "2       4  b35_45      US        BA  No dietary restrictions  No goals   \n",
       "3       4  b35_45      US        BA  No dietary restrictions  No goals   \n",
       "4       4  b35_45      US        BA  No dietary restrictions  No goals   \n",
       "\n",
       "  cooking_exp eating_habits gender    recipe_name  user_id  recipe_id_x  \\\n",
       "0         Low     Unhealthy   Male  Ray's Chicken        4          128   \n",
       "1         Low     Unhealthy   Male  Ray's Chicken        4          128   \n",
       "2         Low     Unhealthy   Male  Ray's Chicken        4          128   \n",
       "3         Low     Unhealthy   Male  Ray's Chicken        4          128   \n",
       "4         Low     Unhealthy   Male  Ray's Chicken        4          128   \n",
       "\n",
       "   recipe_id_y  chosen  \n",
       "0          128       1  \n",
       "1          141       1  \n",
       "2           28       1  \n",
       "3          143       1  \n",
       "4          121       1  "
      ]
     },
     "execution_count": 18,
     "metadata": {},
     "output_type": "execute_result"
    }
   ],
   "source": [
    "user_features_DF.head()"
   ]
  },
  {
   "cell_type": "code",
   "execution_count": 19,
   "metadata": {},
   "outputs": [],
   "source": [
    "user_features_DF.drop(columns = ['recipe_id_y'], inplace=True)\n",
    "user_features_DF.rename(columns = {'recipe_id_x':'recipe_id'}, inplace=True)"
   ]
  },
  {
   "cell_type": "code",
   "execution_count": 20,
   "metadata": {},
   "outputs": [
    {
     "data": {
      "text/html": [
       "<div>\n",
       "<style scoped>\n",
       "    .dataframe tbody tr th:only-of-type {\n",
       "        vertical-align: middle;\n",
       "    }\n",
       "\n",
       "    .dataframe tbody tr th {\n",
       "        vertical-align: top;\n",
       "    }\n",
       "\n",
       "    .dataframe thead th {\n",
       "        text-align: right;\n",
       "    }\n",
       "</style>\n",
       "<table border=\"1\" class=\"dataframe\">\n",
       "  <thead>\n",
       "    <tr style=\"text-align: right;\">\n",
       "      <th></th>\n",
       "      <th>person</th>\n",
       "      <th>age</th>\n",
       "      <th>country</th>\n",
       "      <th>education</th>\n",
       "      <th>diet_restriction</th>\n",
       "      <th>diet_goal</th>\n",
       "      <th>cooking_exp</th>\n",
       "      <th>eating_habits</th>\n",
       "      <th>gender</th>\n",
       "      <th>recipe_name</th>\n",
       "      <th>user_id</th>\n",
       "      <th>recipe_id</th>\n",
       "      <th>chosen</th>\n",
       "    </tr>\n",
       "  </thead>\n",
       "  <tbody>\n",
       "    <tr>\n",
       "      <th>0</th>\n",
       "      <td>4</td>\n",
       "      <td>b35_45</td>\n",
       "      <td>US</td>\n",
       "      <td>BA</td>\n",
       "      <td>No dietary restrictions</td>\n",
       "      <td>No goals</td>\n",
       "      <td>Low</td>\n",
       "      <td>Unhealthy</td>\n",
       "      <td>Male</td>\n",
       "      <td>Ray's Chicken</td>\n",
       "      <td>4</td>\n",
       "      <td>128</td>\n",
       "      <td>1</td>\n",
       "    </tr>\n",
       "    <tr>\n",
       "      <th>1</th>\n",
       "      <td>4</td>\n",
       "      <td>b35_45</td>\n",
       "      <td>US</td>\n",
       "      <td>BA</td>\n",
       "      <td>No dietary restrictions</td>\n",
       "      <td>No goals</td>\n",
       "      <td>Low</td>\n",
       "      <td>Unhealthy</td>\n",
       "      <td>Male</td>\n",
       "      <td>Ray's Chicken</td>\n",
       "      <td>4</td>\n",
       "      <td>128</td>\n",
       "      <td>1</td>\n",
       "    </tr>\n",
       "    <tr>\n",
       "      <th>2</th>\n",
       "      <td>4</td>\n",
       "      <td>b35_45</td>\n",
       "      <td>US</td>\n",
       "      <td>BA</td>\n",
       "      <td>No dietary restrictions</td>\n",
       "      <td>No goals</td>\n",
       "      <td>Low</td>\n",
       "      <td>Unhealthy</td>\n",
       "      <td>Male</td>\n",
       "      <td>Ray's Chicken</td>\n",
       "      <td>4</td>\n",
       "      <td>128</td>\n",
       "      <td>1</td>\n",
       "    </tr>\n",
       "    <tr>\n",
       "      <th>3</th>\n",
       "      <td>4</td>\n",
       "      <td>b35_45</td>\n",
       "      <td>US</td>\n",
       "      <td>BA</td>\n",
       "      <td>No dietary restrictions</td>\n",
       "      <td>No goals</td>\n",
       "      <td>Low</td>\n",
       "      <td>Unhealthy</td>\n",
       "      <td>Male</td>\n",
       "      <td>Ray's Chicken</td>\n",
       "      <td>4</td>\n",
       "      <td>128</td>\n",
       "      <td>1</td>\n",
       "    </tr>\n",
       "    <tr>\n",
       "      <th>4</th>\n",
       "      <td>4</td>\n",
       "      <td>b35_45</td>\n",
       "      <td>US</td>\n",
       "      <td>BA</td>\n",
       "      <td>No dietary restrictions</td>\n",
       "      <td>No goals</td>\n",
       "      <td>Low</td>\n",
       "      <td>Unhealthy</td>\n",
       "      <td>Male</td>\n",
       "      <td>Ray's Chicken</td>\n",
       "      <td>4</td>\n",
       "      <td>128</td>\n",
       "      <td>1</td>\n",
       "    </tr>\n",
       "  </tbody>\n",
       "</table>\n",
       "</div>"
      ],
      "text/plain": [
       "   person     age country education         diet_restriction diet_goal  \\\n",
       "0       4  b35_45      US        BA  No dietary restrictions  No goals   \n",
       "1       4  b35_45      US        BA  No dietary restrictions  No goals   \n",
       "2       4  b35_45      US        BA  No dietary restrictions  No goals   \n",
       "3       4  b35_45      US        BA  No dietary restrictions  No goals   \n",
       "4       4  b35_45      US        BA  No dietary restrictions  No goals   \n",
       "\n",
       "  cooking_exp eating_habits gender    recipe_name  user_id  recipe_id  chosen  \n",
       "0         Low     Unhealthy   Male  Ray's Chicken        4        128       1  \n",
       "1         Low     Unhealthy   Male  Ray's Chicken        4        128       1  \n",
       "2         Low     Unhealthy   Male  Ray's Chicken        4        128       1  \n",
       "3         Low     Unhealthy   Male  Ray's Chicken        4        128       1  \n",
       "4         Low     Unhealthy   Male  Ray's Chicken        4        128       1  "
      ]
     },
     "execution_count": 20,
     "metadata": {},
     "output_type": "execute_result"
    }
   ],
   "source": [
    "user_features_DF.head()"
   ]
  },
  {
   "cell_type": "code",
   "execution_count": 21,
   "metadata": {},
   "outputs": [
    {
     "data": {
      "text/plain": [
       "(140427, 13)"
      ]
     },
     "execution_count": 21,
     "metadata": {},
     "output_type": "execute_result"
    }
   ],
   "source": [
    "user_features_DF.shape"
   ]
  },
  {
   "cell_type": "code",
   "execution_count": 22,
   "metadata": {},
   "outputs": [],
   "source": [
    "# replace the age with averages\n",
    "age_mapping = {\n",
    "    'under_18':18,\n",
    "    'b18_24': 21,\n",
    "    'b25_35': 30,\n",
    "    'b35_45': 40,\n",
    "    'b45_55': 50,\n",
    "    'bover_55': 60,\n",
    "}\n",
    "user_features_DF['age'] = user_features_DF['age'].map(age_mapping)"
   ]
  },
  {
   "cell_type": "markdown",
   "metadata": {},
   "source": [
    "#### Recipe Features\n",
    "Construct a training dataset that describes each recipe using various features. The original dataset, primarily sourced from Allrecipes.com, serves as the basis for our research."
   ]
  },
  {
   "cell_type": "code",
   "execution_count": 23,
   "metadata": {},
   "outputs": [
    {
     "name": "stdout",
     "output_type": "stream",
     "text": [
      "<class 'pandas.core.frame.DataFrame'>\n",
      "RangeIndex: 942 entries, 0 to 941\n",
      "Data columns (total 31 columns):\n",
      " #   Column              Non-Null Count  Dtype  \n",
      "---  ------              --------------  -----  \n",
      " 0   URL                 942 non-null    object \n",
      " 1   Name                942 non-null    object \n",
      " 2   fiber_g             942 non-null    float64\n",
      " 3   sodium_g            942 non-null    float64\n",
      " 4   carbohydrates_g     942 non-null    float64\n",
      " 5   fat_g               942 non-null    float64\n",
      " 6   protein_g           942 non-null    float64\n",
      " 7   sugar_g             942 non-null    float64\n",
      " 8   saturate_g          942 non-null    float64\n",
      " 9   size_g              942 non-null    float64\n",
      " 10  Servings            942 non-null    int64  \n",
      " 11  calories_kCal       942 non-null    int64  \n",
      " 12  category            942 non-null    object \n",
      " 13  image_link          942 non-null    object \n",
      " 14  fat_100g            942 non-null    float64\n",
      " 15  fiber_100g          942 non-null    float64\n",
      " 16  sugar_100g          942 non-null    float64\n",
      " 17  saturated_100g      942 non-null    float64\n",
      " 18  protien_100g        0 non-null      float64\n",
      " 19  sodium_100mg        942 non-null    float64\n",
      " 20  carbohydrates_100g  942 non-null    float64\n",
      " 21  kj_100g             942 non-null    float64\n",
      " 22  Nutri_score         942 non-null    object \n",
      " 23  Fsa_new             942 non-null    int64  \n",
      " 24  salt_100g           942 non-null    float64\n",
      " 25  salt_g              942 non-null    float64\n",
      " 26  fat_count           942 non-null    int64  \n",
      " 27  satfat_count        942 non-null    int64  \n",
      " 28  sugar_count         942 non-null    int64  \n",
      " 29  salt_count          942 non-null    int64  \n",
      " 30  NumberRatings       942 non-null    int64  \n",
      "dtypes: float64(18), int64(8), object(5)\n",
      "memory usage: 228.3+ KB\n"
     ]
    }
   ],
   "source": [
    "## read original recipes\n",
    "source_recipes = pd.read_csv('./Dataset/recipe_source.csv')\n",
    "source_recipes.info()"
   ]
  },
  {
   "cell_type": "code",
   "execution_count": 24,
   "metadata": {},
   "outputs": [
    {
     "data": {
      "text/plain": [
       "True"
      ]
     },
     "execution_count": 24,
     "metadata": {},
     "output_type": "execute_result"
    }
   ],
   "source": [
    "## extract features for selected recipes by users\n",
    "recip_features_df  = pd.merge(source_recipes, target_recipe, right_on = 'recipes', left_on='Name')\n",
    "\n",
    "# check if all selected recipes by users are in the orignal recipe dataset\n",
    "target_recipe.recipes.isin(source_recipes.Name).any()\n"
   ]
  },
  {
   "cell_type": "code",
   "execution_count": 25,
   "metadata": {},
   "outputs": [],
   "source": [
    "# drop useless columns\n",
    "source_recipes.drop(columns = ['URL','image_link'], inplace=True)"
   ]
  },
  {
   "cell_type": "code",
   "execution_count": 26,
   "metadata": {},
   "outputs": [],
   "source": [
    "# rename a column\n",
    "source_recipes.rename(columns={'Name':'recipe_name'}, inplace=True)"
   ]
  },
  {
   "cell_type": "code",
   "execution_count": 27,
   "metadata": {},
   "outputs": [
    {
     "name": "stdout",
     "output_type": "stream",
     "text": [
      "<class 'pandas.core.frame.DataFrame'>\n",
      "RangeIndex: 942 entries, 0 to 941\n",
      "Data columns (total 29 columns):\n",
      " #   Column              Non-Null Count  Dtype  \n",
      "---  ------              --------------  -----  \n",
      " 0   recipe_name         942 non-null    object \n",
      " 1   fiber_g             942 non-null    float64\n",
      " 2   sodium_g            942 non-null    float64\n",
      " 3   carbohydrates_g     942 non-null    float64\n",
      " 4   fat_g               942 non-null    float64\n",
      " 5   protein_g           942 non-null    float64\n",
      " 6   sugar_g             942 non-null    float64\n",
      " 7   saturate_g          942 non-null    float64\n",
      " 8   size_g              942 non-null    float64\n",
      " 9   Servings            942 non-null    int64  \n",
      " 10  calories_kCal       942 non-null    int64  \n",
      " 11  category            942 non-null    object \n",
      " 12  fat_100g            942 non-null    float64\n",
      " 13  fiber_100g          942 non-null    float64\n",
      " 14  sugar_100g          942 non-null    float64\n",
      " 15  saturated_100g      942 non-null    float64\n",
      " 16  protien_100g        0 non-null      float64\n",
      " 17  sodium_100mg        942 non-null    float64\n",
      " 18  carbohydrates_100g  942 non-null    float64\n",
      " 19  kj_100g             942 non-null    float64\n",
      " 20  Nutri_score         942 non-null    object \n",
      " 21  Fsa_new             942 non-null    int64  \n",
      " 22  salt_100g           942 non-null    float64\n",
      " 23  salt_g              942 non-null    float64\n",
      " 24  fat_count           942 non-null    int64  \n",
      " 25  satfat_count        942 non-null    int64  \n",
      " 26  sugar_count         942 non-null    int64  \n",
      " 27  salt_count          942 non-null    int64  \n",
      " 28  NumberRatings       942 non-null    int64  \n",
      "dtypes: float64(18), int64(8), object(3)\n",
      "memory usage: 213.5+ KB\n"
     ]
    }
   ],
   "source": [
    "## final recipe dataset\n",
    "source_recipes.info()"
   ]
  },
  {
   "cell_type": "code",
   "execution_count": 28,
   "metadata": {},
   "outputs": [],
   "source": [
    "## add recipe add the to data using merge\n",
    "source_recipes_df = source_recipes.merge(user_features_DF[['recipe_name', 'recipe_id']], on='recipe_name')"
   ]
  },
  {
   "cell_type": "code",
   "execution_count": 29,
   "metadata": {},
   "outputs": [
    {
     "data": {
      "text/plain": [
       "(138726, 30)"
      ]
     },
     "execution_count": 29,
     "metadata": {},
     "output_type": "execute_result"
    }
   ],
   "source": [
    "source_recipes_df.shape"
   ]
  },
  {
   "cell_type": "markdown",
   "metadata": {},
   "source": [
    "## Two Tower Model\n",
    "A Two-Tower Recommender System is a hybrid recommender model that integrates collaborative filtering and content-based methods. It utilizes two deep neural networks—one for users and one for items—to embed them into a shared low-dimensional space. The system then predicts user preferences or ratings for items based on the geometric relationships between these embeddings, using metrics such as cosine similarity or dot product. By leveraging both user-item interactions and the intrinsic features of users and items, the two-tower approach provides more accurate and personalized recommendations.\n",
    "Figure below shows the two tower \n",
    "\n",
    "\n",
    "\n",
    "<p align=\"center\">\n",
    "  <img src=\"final_project.png\" alt=\"Two-Tower Model\" width=\"450\"/>\n",
    "</p>\n",
    "\n",
    "The two-tower model will be implemented Pytorch"
   ]
  },
  {
   "cell_type": "code",
   "execution_count": 30,
   "metadata": {},
   "outputs": [],
   "source": [
    "## Import libraries\n",
    "import torch\n",
    "import torch.nn as nn\n",
    "from torch.utils.data import Dataset, DataLoader\n",
    "import pandas as pd\n",
    "import numpy as np\n",
    "import os\n",
    "from sklearn.model_selection import train_test_split\n",
    "from typing import List"
   ]
  },
  {
   "cell_type": "code",
   "execution_count": 31,
   "metadata": {},
   "outputs": [
    {
     "name": "stdout",
     "output_type": "stream",
     "text": [
      "using mps device\n"
     ]
    }
   ],
   "source": [
    "## device used \n",
    "device = (\n",
    "    \"cuda\"\n",
    "    if torch.cuda.is_available()\n",
    "    else \"mps\" # apple hardware acceleration\n",
    "    if torch.backends.mps.is_available()\n",
    "    else \"cpu\"\n",
    ")\n",
    "print(f'using {device} device')"
   ]
  },
  {
   "cell_type": "code",
   "execution_count": 32,
   "metadata": {},
   "outputs": [
    {
     "ename": "KeyboardInterrupt",
     "evalue": "",
     "output_type": "error",
     "traceback": [
      "\u001b[0;31m---------------------------------------------------------------------------\u001b[0m",
      "\u001b[0;31mKeyboardInterrupt\u001b[0m                         Traceback (most recent call last)",
      "Cell \u001b[0;32mIn[32], line 2\u001b[0m\n\u001b[1;32m      1\u001b[0m \u001b[38;5;66;03m## Concatenate user data and recipe data into one dataframe \u001b[39;00m\n\u001b[0;32m----> 2\u001b[0m user_recipe_DF \u001b[38;5;241m=\u001b[39m \u001b[43muser_features_DF\u001b[49m\u001b[38;5;241;43m.\u001b[39;49m\u001b[43mmerge\u001b[49m\u001b[43m(\u001b[49m\u001b[43msource_recipes_df\u001b[49m\u001b[43m,\u001b[49m\u001b[43m \u001b[49m\u001b[43mon\u001b[49m\u001b[38;5;241;43m=\u001b[39;49m\u001b[38;5;124;43m'\u001b[39;49m\u001b[38;5;124;43mrecipe_id\u001b[39;49m\u001b[38;5;124;43m'\u001b[39;49m\u001b[43m)\u001b[49m\n\u001b[1;32m      3\u001b[0m \u001b[38;5;28mprint\u001b[39m(\u001b[38;5;124mf\u001b[39m\u001b[38;5;124m'\u001b[39m\u001b[38;5;124muser data shape \u001b[39m\u001b[38;5;132;01m{\u001b[39;00muser_features_DF\u001b[38;5;241m.\u001b[39mshape\u001b[38;5;132;01m}\u001b[39;00m\u001b[38;5;124m, recipe data shape \u001b[39m\u001b[38;5;132;01m{\u001b[39;00msource_recipes_df\u001b[38;5;241m.\u001b[39mshape\u001b[38;5;132;01m}\u001b[39;00m\u001b[38;5;124m, all data combined shape \u001b[39m\u001b[38;5;132;01m{\u001b[39;00muser_recipe_DF\u001b[38;5;241m.\u001b[39mshape\u001b[38;5;132;01m}\u001b[39;00m\u001b[38;5;124m'\u001b[39m)\n",
      "File \u001b[0;32m/opt/anaconda3/envs/pytorch_apple/lib/python3.8/site-packages/pandas/core/frame.py:9843\u001b[0m, in \u001b[0;36mDataFrame.merge\u001b[0;34m(self, right, how, on, left_on, right_on, left_index, right_index, sort, suffixes, copy, indicator, validate)\u001b[0m\n\u001b[1;32m   9824\u001b[0m \u001b[38;5;129m@Substitution\u001b[39m(\u001b[38;5;124m\"\u001b[39m\u001b[38;5;124m\"\u001b[39m)\n\u001b[1;32m   9825\u001b[0m \u001b[38;5;129m@Appender\u001b[39m(_merge_doc, indents\u001b[38;5;241m=\u001b[39m\u001b[38;5;241m2\u001b[39m)\n\u001b[1;32m   9826\u001b[0m \u001b[38;5;28;01mdef\u001b[39;00m \u001b[38;5;21mmerge\u001b[39m(\n\u001b[0;32m   (...)\u001b[0m\n\u001b[1;32m   9839\u001b[0m     validate: \u001b[38;5;28mstr\u001b[39m \u001b[38;5;241m|\u001b[39m \u001b[38;5;28;01mNone\u001b[39;00m \u001b[38;5;241m=\u001b[39m \u001b[38;5;28;01mNone\u001b[39;00m,\n\u001b[1;32m   9840\u001b[0m ) \u001b[38;5;241m-\u001b[39m\u001b[38;5;241m>\u001b[39m DataFrame:\n\u001b[1;32m   9841\u001b[0m     \u001b[38;5;28;01mfrom\u001b[39;00m \u001b[38;5;21;01mpandas\u001b[39;00m\u001b[38;5;21;01m.\u001b[39;00m\u001b[38;5;21;01mcore\u001b[39;00m\u001b[38;5;21;01m.\u001b[39;00m\u001b[38;5;21;01mreshape\u001b[39;00m\u001b[38;5;21;01m.\u001b[39;00m\u001b[38;5;21;01mmerge\u001b[39;00m \u001b[38;5;28;01mimport\u001b[39;00m merge\n\u001b[0;32m-> 9843\u001b[0m     \u001b[38;5;28;01mreturn\u001b[39;00m \u001b[43mmerge\u001b[49m\u001b[43m(\u001b[49m\n\u001b[1;32m   9844\u001b[0m \u001b[43m        \u001b[49m\u001b[38;5;28;43mself\u001b[39;49m\u001b[43m,\u001b[49m\n\u001b[1;32m   9845\u001b[0m \u001b[43m        \u001b[49m\u001b[43mright\u001b[49m\u001b[43m,\u001b[49m\n\u001b[1;32m   9846\u001b[0m \u001b[43m        \u001b[49m\u001b[43mhow\u001b[49m\u001b[38;5;241;43m=\u001b[39;49m\u001b[43mhow\u001b[49m\u001b[43m,\u001b[49m\n\u001b[1;32m   9847\u001b[0m \u001b[43m        \u001b[49m\u001b[43mon\u001b[49m\u001b[38;5;241;43m=\u001b[39;49m\u001b[43mon\u001b[49m\u001b[43m,\u001b[49m\n\u001b[1;32m   9848\u001b[0m \u001b[43m        \u001b[49m\u001b[43mleft_on\u001b[49m\u001b[38;5;241;43m=\u001b[39;49m\u001b[43mleft_on\u001b[49m\u001b[43m,\u001b[49m\n\u001b[1;32m   9849\u001b[0m \u001b[43m        \u001b[49m\u001b[43mright_on\u001b[49m\u001b[38;5;241;43m=\u001b[39;49m\u001b[43mright_on\u001b[49m\u001b[43m,\u001b[49m\n\u001b[1;32m   9850\u001b[0m \u001b[43m        \u001b[49m\u001b[43mleft_index\u001b[49m\u001b[38;5;241;43m=\u001b[39;49m\u001b[43mleft_index\u001b[49m\u001b[43m,\u001b[49m\n\u001b[1;32m   9851\u001b[0m \u001b[43m        \u001b[49m\u001b[43mright_index\u001b[49m\u001b[38;5;241;43m=\u001b[39;49m\u001b[43mright_index\u001b[49m\u001b[43m,\u001b[49m\n\u001b[1;32m   9852\u001b[0m \u001b[43m        \u001b[49m\u001b[43msort\u001b[49m\u001b[38;5;241;43m=\u001b[39;49m\u001b[43msort\u001b[49m\u001b[43m,\u001b[49m\n\u001b[1;32m   9853\u001b[0m \u001b[43m        \u001b[49m\u001b[43msuffixes\u001b[49m\u001b[38;5;241;43m=\u001b[39;49m\u001b[43msuffixes\u001b[49m\u001b[43m,\u001b[49m\n\u001b[1;32m   9854\u001b[0m \u001b[43m        \u001b[49m\u001b[43mcopy\u001b[49m\u001b[38;5;241;43m=\u001b[39;49m\u001b[43mcopy\u001b[49m\u001b[43m,\u001b[49m\n\u001b[1;32m   9855\u001b[0m \u001b[43m        \u001b[49m\u001b[43mindicator\u001b[49m\u001b[38;5;241;43m=\u001b[39;49m\u001b[43mindicator\u001b[49m\u001b[43m,\u001b[49m\n\u001b[1;32m   9856\u001b[0m \u001b[43m        \u001b[49m\u001b[43mvalidate\u001b[49m\u001b[38;5;241;43m=\u001b[39;49m\u001b[43mvalidate\u001b[49m\u001b[43m,\u001b[49m\n\u001b[1;32m   9857\u001b[0m \u001b[43m    \u001b[49m\u001b[43m)\u001b[49m\n",
      "File \u001b[0;32m/opt/anaconda3/envs/pytorch_apple/lib/python3.8/site-packages/pandas/core/reshape/merge.py:162\u001b[0m, in \u001b[0;36mmerge\u001b[0;34m(left, right, how, on, left_on, right_on, left_index, right_index, sort, suffixes, copy, indicator, validate)\u001b[0m\n\u001b[1;32m    131\u001b[0m \u001b[38;5;129m@Substitution\u001b[39m(\u001b[38;5;124m\"\u001b[39m\u001b[38;5;130;01m\\n\u001b[39;00m\u001b[38;5;124mleft : DataFrame or named Series\u001b[39m\u001b[38;5;124m\"\u001b[39m)\n\u001b[1;32m    132\u001b[0m \u001b[38;5;129m@Appender\u001b[39m(_merge_doc, indents\u001b[38;5;241m=\u001b[39m\u001b[38;5;241m0\u001b[39m)\n\u001b[1;32m    133\u001b[0m \u001b[38;5;28;01mdef\u001b[39;00m \u001b[38;5;21mmerge\u001b[39m(\n\u001b[0;32m   (...)\u001b[0m\n\u001b[1;32m    146\u001b[0m     validate: \u001b[38;5;28mstr\u001b[39m \u001b[38;5;241m|\u001b[39m \u001b[38;5;28;01mNone\u001b[39;00m \u001b[38;5;241m=\u001b[39m \u001b[38;5;28;01mNone\u001b[39;00m,\n\u001b[1;32m    147\u001b[0m ) \u001b[38;5;241m-\u001b[39m\u001b[38;5;241m>\u001b[39m DataFrame:\n\u001b[1;32m    148\u001b[0m     op \u001b[38;5;241m=\u001b[39m _MergeOperation(\n\u001b[1;32m    149\u001b[0m         left,\n\u001b[1;32m    150\u001b[0m         right,\n\u001b[0;32m   (...)\u001b[0m\n\u001b[1;32m    160\u001b[0m         validate\u001b[38;5;241m=\u001b[39mvalidate,\n\u001b[1;32m    161\u001b[0m     )\n\u001b[0;32m--> 162\u001b[0m     \u001b[38;5;28;01mreturn\u001b[39;00m \u001b[43mop\u001b[49m\u001b[38;5;241;43m.\u001b[39;49m\u001b[43mget_result\u001b[49m\u001b[43m(\u001b[49m\u001b[43mcopy\u001b[49m\u001b[38;5;241;43m=\u001b[39;49m\u001b[43mcopy\u001b[49m\u001b[43m)\u001b[49m\n",
      "File \u001b[0;32m/opt/anaconda3/envs/pytorch_apple/lib/python3.8/site-packages/pandas/core/reshape/merge.py:811\u001b[0m, in \u001b[0;36m_MergeOperation.get_result\u001b[0;34m(self, copy)\u001b[0m\n\u001b[1;32m    807\u001b[0m     \u001b[38;5;28mself\u001b[39m\u001b[38;5;241m.\u001b[39mleft, \u001b[38;5;28mself\u001b[39m\u001b[38;5;241m.\u001b[39mright \u001b[38;5;241m=\u001b[39m \u001b[38;5;28mself\u001b[39m\u001b[38;5;241m.\u001b[39m_indicator_pre_merge(\u001b[38;5;28mself\u001b[39m\u001b[38;5;241m.\u001b[39mleft, \u001b[38;5;28mself\u001b[39m\u001b[38;5;241m.\u001b[39mright)\n\u001b[1;32m    809\u001b[0m join_index, left_indexer, right_indexer \u001b[38;5;241m=\u001b[39m \u001b[38;5;28mself\u001b[39m\u001b[38;5;241m.\u001b[39m_get_join_info()\n\u001b[0;32m--> 811\u001b[0m result \u001b[38;5;241m=\u001b[39m \u001b[38;5;28;43mself\u001b[39;49m\u001b[38;5;241;43m.\u001b[39;49m\u001b[43m_reindex_and_concat\u001b[49m\u001b[43m(\u001b[49m\n\u001b[1;32m    812\u001b[0m \u001b[43m    \u001b[49m\u001b[43mjoin_index\u001b[49m\u001b[43m,\u001b[49m\u001b[43m \u001b[49m\u001b[43mleft_indexer\u001b[49m\u001b[43m,\u001b[49m\u001b[43m \u001b[49m\u001b[43mright_indexer\u001b[49m\u001b[43m,\u001b[49m\u001b[43m \u001b[49m\u001b[43mcopy\u001b[49m\u001b[38;5;241;43m=\u001b[39;49m\u001b[43mcopy\u001b[49m\n\u001b[1;32m    813\u001b[0m \u001b[43m\u001b[49m\u001b[43m)\u001b[49m\n\u001b[1;32m    814\u001b[0m result \u001b[38;5;241m=\u001b[39m result\u001b[38;5;241m.\u001b[39m__finalize__(\u001b[38;5;28mself\u001b[39m, method\u001b[38;5;241m=\u001b[39m\u001b[38;5;28mself\u001b[39m\u001b[38;5;241m.\u001b[39m_merge_type)\n\u001b[1;32m    816\u001b[0m \u001b[38;5;28;01mif\u001b[39;00m \u001b[38;5;28mself\u001b[39m\u001b[38;5;241m.\u001b[39mindicator:\n",
      "File \u001b[0;32m/opt/anaconda3/envs/pytorch_apple/lib/python3.8/site-packages/pandas/core/reshape/merge.py:771\u001b[0m, in \u001b[0;36m_MergeOperation._reindex_and_concat\u001b[0;34m(self, join_index, left_indexer, right_indexer, copy)\u001b[0m\n\u001b[1;32m    763\u001b[0m llabels, rlabels \u001b[38;5;241m=\u001b[39m _items_overlap_with_suffix(\n\u001b[1;32m    764\u001b[0m     \u001b[38;5;28mself\u001b[39m\u001b[38;5;241m.\u001b[39mleft\u001b[38;5;241m.\u001b[39m_info_axis, \u001b[38;5;28mself\u001b[39m\u001b[38;5;241m.\u001b[39mright\u001b[38;5;241m.\u001b[39m_info_axis, \u001b[38;5;28mself\u001b[39m\u001b[38;5;241m.\u001b[39msuffixes\n\u001b[1;32m    765\u001b[0m )\n\u001b[1;32m    767\u001b[0m \u001b[38;5;28;01mif\u001b[39;00m left_indexer \u001b[38;5;129;01mis\u001b[39;00m \u001b[38;5;129;01mnot\u001b[39;00m \u001b[38;5;28;01mNone\u001b[39;00m \u001b[38;5;129;01mand\u001b[39;00m \u001b[38;5;129;01mnot\u001b[39;00m is_range_indexer(left_indexer, \u001b[38;5;28mlen\u001b[39m(left)):\n\u001b[1;32m    768\u001b[0m     \u001b[38;5;66;03m# Pinning the index here (and in the right code just below) is not\u001b[39;00m\n\u001b[1;32m    769\u001b[0m     \u001b[38;5;66;03m#  necessary, but makes the `.take` more performant if we have e.g.\u001b[39;00m\n\u001b[1;32m    770\u001b[0m     \u001b[38;5;66;03m#  a MultiIndex for left.index.\u001b[39;00m\n\u001b[0;32m--> 771\u001b[0m     lmgr \u001b[38;5;241m=\u001b[39m \u001b[43mleft\u001b[49m\u001b[38;5;241;43m.\u001b[39;49m\u001b[43m_mgr\u001b[49m\u001b[38;5;241;43m.\u001b[39;49m\u001b[43mreindex_indexer\u001b[49m\u001b[43m(\u001b[49m\n\u001b[1;32m    772\u001b[0m \u001b[43m        \u001b[49m\u001b[43mjoin_index\u001b[49m\u001b[43m,\u001b[49m\n\u001b[1;32m    773\u001b[0m \u001b[43m        \u001b[49m\u001b[43mleft_indexer\u001b[49m\u001b[43m,\u001b[49m\n\u001b[1;32m    774\u001b[0m \u001b[43m        \u001b[49m\u001b[43maxis\u001b[49m\u001b[38;5;241;43m=\u001b[39;49m\u001b[38;5;241;43m1\u001b[39;49m\u001b[43m,\u001b[49m\n\u001b[1;32m    775\u001b[0m \u001b[43m        \u001b[49m\u001b[43mcopy\u001b[49m\u001b[38;5;241;43m=\u001b[39;49m\u001b[38;5;28;43;01mFalse\u001b[39;49;00m\u001b[43m,\u001b[49m\n\u001b[1;32m    776\u001b[0m \u001b[43m        \u001b[49m\u001b[43monly_slice\u001b[49m\u001b[38;5;241;43m=\u001b[39;49m\u001b[38;5;28;43;01mTrue\u001b[39;49;00m\u001b[43m,\u001b[49m\n\u001b[1;32m    777\u001b[0m \u001b[43m        \u001b[49m\u001b[43mallow_dups\u001b[49m\u001b[38;5;241;43m=\u001b[39;49m\u001b[38;5;28;43;01mTrue\u001b[39;49;00m\u001b[43m,\u001b[49m\n\u001b[1;32m    778\u001b[0m \u001b[43m        \u001b[49m\u001b[43muse_na_proxy\u001b[49m\u001b[38;5;241;43m=\u001b[39;49m\u001b[38;5;28;43;01mTrue\u001b[39;49;00m\u001b[43m,\u001b[49m\n\u001b[1;32m    779\u001b[0m \u001b[43m    \u001b[49m\u001b[43m)\u001b[49m\n\u001b[1;32m    780\u001b[0m     left \u001b[38;5;241m=\u001b[39m left\u001b[38;5;241m.\u001b[39m_constructor(lmgr)\n\u001b[1;32m    781\u001b[0m left\u001b[38;5;241m.\u001b[39mindex \u001b[38;5;241m=\u001b[39m join_index\n",
      "File \u001b[0;32m/opt/anaconda3/envs/pytorch_apple/lib/python3.8/site-packages/pandas/core/internals/managers.py:747\u001b[0m, in \u001b[0;36mBaseBlockManager.reindex_indexer\u001b[0;34m(self, new_axis, indexer, axis, fill_value, allow_dups, copy, only_slice, use_na_proxy)\u001b[0m\n\u001b[1;32m    740\u001b[0m     new_blocks \u001b[38;5;241m=\u001b[39m \u001b[38;5;28mself\u001b[39m\u001b[38;5;241m.\u001b[39m_slice_take_blocks_ax0(\n\u001b[1;32m    741\u001b[0m         indexer,\n\u001b[1;32m    742\u001b[0m         fill_value\u001b[38;5;241m=\u001b[39mfill_value,\n\u001b[1;32m    743\u001b[0m         only_slice\u001b[38;5;241m=\u001b[39monly_slice,\n\u001b[1;32m    744\u001b[0m         use_na_proxy\u001b[38;5;241m=\u001b[39muse_na_proxy,\n\u001b[1;32m    745\u001b[0m     )\n\u001b[1;32m    746\u001b[0m \u001b[38;5;28;01melse\u001b[39;00m:\n\u001b[0;32m--> 747\u001b[0m     new_blocks \u001b[38;5;241m=\u001b[39m [\n\u001b[1;32m    748\u001b[0m         blk\u001b[38;5;241m.\u001b[39mtake_nd(\n\u001b[1;32m    749\u001b[0m             indexer,\n\u001b[1;32m    750\u001b[0m             axis\u001b[38;5;241m=\u001b[39m\u001b[38;5;241m1\u001b[39m,\n\u001b[1;32m    751\u001b[0m             fill_value\u001b[38;5;241m=\u001b[39m(\n\u001b[1;32m    752\u001b[0m                 fill_value \u001b[38;5;28;01mif\u001b[39;00m fill_value \u001b[38;5;129;01mis\u001b[39;00m \u001b[38;5;129;01mnot\u001b[39;00m \u001b[38;5;28;01mNone\u001b[39;00m \u001b[38;5;28;01melse\u001b[39;00m blk\u001b[38;5;241m.\u001b[39mfill_value\n\u001b[1;32m    753\u001b[0m             ),\n\u001b[1;32m    754\u001b[0m         )\n\u001b[1;32m    755\u001b[0m         \u001b[38;5;28;01mfor\u001b[39;00m blk \u001b[38;5;129;01min\u001b[39;00m \u001b[38;5;28mself\u001b[39m\u001b[38;5;241m.\u001b[39mblocks\n\u001b[1;32m    756\u001b[0m     ]\n\u001b[1;32m    758\u001b[0m new_axes \u001b[38;5;241m=\u001b[39m \u001b[38;5;28mlist\u001b[39m(\u001b[38;5;28mself\u001b[39m\u001b[38;5;241m.\u001b[39maxes)\n\u001b[1;32m    759\u001b[0m new_axes[axis] \u001b[38;5;241m=\u001b[39m new_axis\n",
      "File \u001b[0;32m/opt/anaconda3/envs/pytorch_apple/lib/python3.8/site-packages/pandas/core/internals/managers.py:748\u001b[0m, in \u001b[0;36m<listcomp>\u001b[0;34m(.0)\u001b[0m\n\u001b[1;32m    740\u001b[0m     new_blocks \u001b[38;5;241m=\u001b[39m \u001b[38;5;28mself\u001b[39m\u001b[38;5;241m.\u001b[39m_slice_take_blocks_ax0(\n\u001b[1;32m    741\u001b[0m         indexer,\n\u001b[1;32m    742\u001b[0m         fill_value\u001b[38;5;241m=\u001b[39mfill_value,\n\u001b[1;32m    743\u001b[0m         only_slice\u001b[38;5;241m=\u001b[39monly_slice,\n\u001b[1;32m    744\u001b[0m         use_na_proxy\u001b[38;5;241m=\u001b[39muse_na_proxy,\n\u001b[1;32m    745\u001b[0m     )\n\u001b[1;32m    746\u001b[0m \u001b[38;5;28;01melse\u001b[39;00m:\n\u001b[1;32m    747\u001b[0m     new_blocks \u001b[38;5;241m=\u001b[39m [\n\u001b[0;32m--> 748\u001b[0m         \u001b[43mblk\u001b[49m\u001b[38;5;241;43m.\u001b[39;49m\u001b[43mtake_nd\u001b[49m\u001b[43m(\u001b[49m\n\u001b[1;32m    749\u001b[0m \u001b[43m            \u001b[49m\u001b[43mindexer\u001b[49m\u001b[43m,\u001b[49m\n\u001b[1;32m    750\u001b[0m \u001b[43m            \u001b[49m\u001b[43maxis\u001b[49m\u001b[38;5;241;43m=\u001b[39;49m\u001b[38;5;241;43m1\u001b[39;49m\u001b[43m,\u001b[49m\n\u001b[1;32m    751\u001b[0m \u001b[43m            \u001b[49m\u001b[43mfill_value\u001b[49m\u001b[38;5;241;43m=\u001b[39;49m\u001b[43m(\u001b[49m\n\u001b[1;32m    752\u001b[0m \u001b[43m                \u001b[49m\u001b[43mfill_value\u001b[49m\u001b[43m \u001b[49m\u001b[38;5;28;43;01mif\u001b[39;49;00m\u001b[43m \u001b[49m\u001b[43mfill_value\u001b[49m\u001b[43m \u001b[49m\u001b[38;5;129;43;01mis\u001b[39;49;00m\u001b[43m \u001b[49m\u001b[38;5;129;43;01mnot\u001b[39;49;00m\u001b[43m \u001b[49m\u001b[38;5;28;43;01mNone\u001b[39;49;00m\u001b[43m \u001b[49m\u001b[38;5;28;43;01melse\u001b[39;49;00m\u001b[43m \u001b[49m\u001b[43mblk\u001b[49m\u001b[38;5;241;43m.\u001b[39;49m\u001b[43mfill_value\u001b[49m\n\u001b[1;32m    753\u001b[0m \u001b[43m            \u001b[49m\u001b[43m)\u001b[49m\u001b[43m,\u001b[49m\n\u001b[1;32m    754\u001b[0m \u001b[43m        \u001b[49m\u001b[43m)\u001b[49m\n\u001b[1;32m    755\u001b[0m         \u001b[38;5;28;01mfor\u001b[39;00m blk \u001b[38;5;129;01min\u001b[39;00m \u001b[38;5;28mself\u001b[39m\u001b[38;5;241m.\u001b[39mblocks\n\u001b[1;32m    756\u001b[0m     ]\n\u001b[1;32m    758\u001b[0m new_axes \u001b[38;5;241m=\u001b[39m \u001b[38;5;28mlist\u001b[39m(\u001b[38;5;28mself\u001b[39m\u001b[38;5;241m.\u001b[39maxes)\n\u001b[1;32m    759\u001b[0m new_axes[axis] \u001b[38;5;241m=\u001b[39m new_axis\n",
      "File \u001b[0;32m/opt/anaconda3/envs/pytorch_apple/lib/python3.8/site-packages/pandas/core/internals/blocks.py:945\u001b[0m, in \u001b[0;36mBlock.take_nd\u001b[0;34m(self, indexer, axis, new_mgr_locs, fill_value)\u001b[0m\n\u001b[1;32m    942\u001b[0m     allow_fill \u001b[38;5;241m=\u001b[39m \u001b[38;5;28;01mTrue\u001b[39;00m\n\u001b[1;32m    944\u001b[0m \u001b[38;5;66;03m# Note: algos.take_nd has upcast logic similar to coerce_to_target_dtype\u001b[39;00m\n\u001b[0;32m--> 945\u001b[0m new_values \u001b[38;5;241m=\u001b[39m \u001b[43malgos\u001b[49m\u001b[38;5;241;43m.\u001b[39;49m\u001b[43mtake_nd\u001b[49m\u001b[43m(\u001b[49m\n\u001b[1;32m    946\u001b[0m \u001b[43m    \u001b[49m\u001b[43mvalues\u001b[49m\u001b[43m,\u001b[49m\u001b[43m \u001b[49m\u001b[43mindexer\u001b[49m\u001b[43m,\u001b[49m\u001b[43m \u001b[49m\u001b[43maxis\u001b[49m\u001b[38;5;241;43m=\u001b[39;49m\u001b[43maxis\u001b[49m\u001b[43m,\u001b[49m\u001b[43m \u001b[49m\u001b[43mallow_fill\u001b[49m\u001b[38;5;241;43m=\u001b[39;49m\u001b[43mallow_fill\u001b[49m\u001b[43m,\u001b[49m\u001b[43m \u001b[49m\u001b[43mfill_value\u001b[49m\u001b[38;5;241;43m=\u001b[39;49m\u001b[43mfill_value\u001b[49m\n\u001b[1;32m    947\u001b[0m \u001b[43m\u001b[49m\u001b[43m)\u001b[49m\n\u001b[1;32m    949\u001b[0m \u001b[38;5;66;03m# Called from three places in managers, all of which satisfy\u001b[39;00m\n\u001b[1;32m    950\u001b[0m \u001b[38;5;66;03m#  these assertions\u001b[39;00m\n\u001b[1;32m    951\u001b[0m \u001b[38;5;28;01mif\u001b[39;00m \u001b[38;5;28misinstance\u001b[39m(\u001b[38;5;28mself\u001b[39m, ExtensionBlock):\n\u001b[1;32m    952\u001b[0m     \u001b[38;5;66;03m# NB: in this case, the 'axis' kwarg will be ignored in the\u001b[39;00m\n\u001b[1;32m    953\u001b[0m     \u001b[38;5;66;03m#  algos.take_nd call above.\u001b[39;00m\n",
      "File \u001b[0;32m/opt/anaconda3/envs/pytorch_apple/lib/python3.8/site-packages/pandas/core/array_algos/take.py:117\u001b[0m, in \u001b[0;36mtake_nd\u001b[0;34m(arr, indexer, axis, fill_value, allow_fill)\u001b[0m\n\u001b[1;32m    114\u001b[0m     \u001b[38;5;28;01mreturn\u001b[39;00m arr\u001b[38;5;241m.\u001b[39mtake(indexer, fill_value\u001b[38;5;241m=\u001b[39mfill_value, allow_fill\u001b[38;5;241m=\u001b[39mallow_fill)\n\u001b[1;32m    116\u001b[0m arr \u001b[38;5;241m=\u001b[39m np\u001b[38;5;241m.\u001b[39masarray(arr)\n\u001b[0;32m--> 117\u001b[0m \u001b[38;5;28;01mreturn\u001b[39;00m \u001b[43m_take_nd_ndarray\u001b[49m\u001b[43m(\u001b[49m\u001b[43marr\u001b[49m\u001b[43m,\u001b[49m\u001b[43m \u001b[49m\u001b[43mindexer\u001b[49m\u001b[43m,\u001b[49m\u001b[43m \u001b[49m\u001b[43maxis\u001b[49m\u001b[43m,\u001b[49m\u001b[43m \u001b[49m\u001b[43mfill_value\u001b[49m\u001b[43m,\u001b[49m\u001b[43m \u001b[49m\u001b[43mallow_fill\u001b[49m\u001b[43m)\u001b[49m\n",
      "File \u001b[0;32m/opt/anaconda3/envs/pytorch_apple/lib/python3.8/site-packages/pandas/core/array_algos/take.py:162\u001b[0m, in \u001b[0;36m_take_nd_ndarray\u001b[0;34m(arr, indexer, axis, fill_value, allow_fill)\u001b[0m\n\u001b[1;32m    157\u001b[0m     out \u001b[38;5;241m=\u001b[39m np\u001b[38;5;241m.\u001b[39mempty(out_shape, dtype\u001b[38;5;241m=\u001b[39mdtype)\n\u001b[1;32m    159\u001b[0m func \u001b[38;5;241m=\u001b[39m _get_take_nd_function(\n\u001b[1;32m    160\u001b[0m     arr\u001b[38;5;241m.\u001b[39mndim, arr\u001b[38;5;241m.\u001b[39mdtype, out\u001b[38;5;241m.\u001b[39mdtype, axis\u001b[38;5;241m=\u001b[39maxis, mask_info\u001b[38;5;241m=\u001b[39mmask_info\n\u001b[1;32m    161\u001b[0m )\n\u001b[0;32m--> 162\u001b[0m \u001b[43mfunc\u001b[49m\u001b[43m(\u001b[49m\u001b[43marr\u001b[49m\u001b[43m,\u001b[49m\u001b[43m \u001b[49m\u001b[43mindexer\u001b[49m\u001b[43m,\u001b[49m\u001b[43m \u001b[49m\u001b[43mout\u001b[49m\u001b[43m,\u001b[49m\u001b[43m \u001b[49m\u001b[43mfill_value\u001b[49m\u001b[43m)\u001b[49m\n\u001b[1;32m    164\u001b[0m \u001b[38;5;28;01mif\u001b[39;00m flip_order:\n\u001b[1;32m    165\u001b[0m     out \u001b[38;5;241m=\u001b[39m out\u001b[38;5;241m.\u001b[39mT\n",
      "\u001b[0;31mKeyboardInterrupt\u001b[0m: "
     ]
    }
   ],
   "source": [
    "## Concatenate user data and recipe data into one dataframe \n",
    "user_recipe_DF = user_features_DF.merge(source_recipes_df, on='recipe_id')\n",
    "print(f'user data shape {user_features_DF.shape}, recipe data shape {source_recipes_df.shape}, all data combined shape {user_recipe_DF.shape}')"
   ]
  },
  {
   "cell_type": "code",
   "execution_count": null,
   "metadata": {},
   "outputs": [],
   "source": [
    "## train test split\n",
    "train_data, test_data = train_test_split(user_recipe_DF, test_size=0.2)"
   ]
  },
  {
   "cell_type": "code",
   "execution_count": null,
   "metadata": {},
   "outputs": [
    {
     "data": {
      "text/plain": [
       "Index(['person', 'age', 'country', 'education', 'diet_restriction',\n",
       "       'diet_goal', 'cooking_exp', 'eating_habits', 'gender', 'recipe_name_x',\n",
       "       'user_id', 'recipe_id', 'chosen', 'recipe_name_y', 'fiber_g',\n",
       "       'sodium_g', 'carbohydrates_g', 'fat_g', 'protein_g', 'sugar_g',\n",
       "       'saturate_g', 'size_g', 'Servings', 'calories_kCal', 'category',\n",
       "       'fat_100g', 'fiber_100g', 'sugar_100g', 'saturated_100g',\n",
       "       'protien_100g', 'sodium_100mg', 'carbohydrates_100g', 'kj_100g',\n",
       "       'Nutri_score', 'Fsa_new', 'salt_100g', 'salt_g', 'fat_count',\n",
       "       'satfat_count', 'sugar_count', 'salt_count', 'NumberRatings'],\n",
       "      dtype='object')"
      ]
     },
     "execution_count": 291,
     "metadata": {},
     "output_type": "execute_result"
    }
   ],
   "source": [
    "user_recipe_DF.columns"
   ]
  },
  {
   "cell_type": "code",
   "execution_count": null,
   "metadata": {},
   "outputs": [],
   "source": [
    "# user_recipe_DF.drop(columns = ['recipe_name_x'], inplace=True)\n",
    "# user_recipe_DF.rename(columns = {'recipe_name_y':'recipe_name'}, inplace=True)\n",
    "user_recipe_DF.drop(columns = ['person'], inplace=True)"
   ]
  },
  {
   "cell_type": "markdown",
   "metadata": {},
   "source": [
    "- Convert categorical Data into numerical"
   ]
  },
  {
   "cell_type": "code",
   "execution_count": null,
   "metadata": {},
   "outputs": [],
   "source": [
    "from sklearn.preprocessing import LabelEncoder\n",
    "\n",
    "# List of categorical features\n",
    "categorical_columns = [\n",
    "     'country', 'education', 'diet_restriction', 'diet_goal', \n",
    "    'cooking_exp', 'eating_habits', 'gender', 'recipe_name', \n",
    "     'category', 'Nutri_score'\n",
    "]\n",
    "\n",
    "# Choose whether to use Label Encoding or One-Hot Encoding\n",
    "use_label_encoding = True  # Set to False for One-Hot Encoding\n",
    "\n",
    " # Choose whether to use Label Encoding or One-Hot Encoding\n",
    "use_label_encoding = True  # Set to False for One-Hot Encoding\n",
    "\n",
    "# Initialize LabelEncoders if using Label Encoding\n",
    "label_encoders = {}\n",
    "# Ensure categorical columns are treated as strings\n",
    "for col in categorical_columns:\n",
    "    user_recipe_DF[col] = user_recipe_DF[col].astype(str)\n",
    "\n",
    "# Initialize LabelEncoders\n",
    "label_encoders = {}\n",
    "\n",
    "# Apply Label Encoding\n",
    "for col in categorical_columns:\n",
    "    le = LabelEncoder()\n",
    "    user_recipe_DF[col] = le.fit_transform(user_recipe_DF[col])\n",
    "    label_encoders[col] = le  # Save the encoder for later use\n"
   ]
  },
  {
   "cell_type": "code",
   "execution_count": null,
   "metadata": {},
   "outputs": [],
   "source": [
    "# Costume the dataset and produce a tensor out of it\n",
    "\n",
    "class CustomDataset(Dataset):\n",
    "    def __init__(self, df:pd.DataFrame, user_features:List, item_features:List, label:List):\n",
    "        self.user_id = df[user_features].values.astype(int)\n",
    "        self.recipe_id = df[user_features].values.astype(int)\n",
    "        self.chosen = df[label].values.astype(int)\n",
    "        \n",
    "    def __len__(self):\n",
    "        return len(self.user_id)\n",
    "    \n",
    "    def __getitem__(self, idx):\n",
    "        \n",
    "        user_id  = self.user_id[idx]\n",
    "        recipe_id = self.recipe_id[idx] \n",
    "        chosen   = self.chosen[idx]\n",
    "        \n",
    "        return [torch.tensor(user_id, dtype=torch.long), \n",
    "                torch.tensor(recipe_id, dtype=torch.long)], \\\n",
    "               torch.tensor(chosen, dtype=torch.float32)"
   ]
  },
  {
   "cell_type": "code",
   "execution_count": null,
   "metadata": {},
   "outputs": [
    {
     "ename": "ValueError",
     "evalue": "invalid literal for int() with base 10: 'b25_35'",
     "output_type": "error",
     "traceback": [
      "\u001b[0;31m---------------------------------------------------------------------------\u001b[0m",
      "\u001b[0;31mValueError\u001b[0m                                Traceback (most recent call last)",
      "Cell \u001b[0;32mIn[328], line 18\u001b[0m\n\u001b[1;32m      7\u001b[0m recipe_features \u001b[38;5;241m=\u001b[39m [\u001b[38;5;124m'\u001b[39m\u001b[38;5;124mrecipe_id\u001b[39m\u001b[38;5;124m'\u001b[39m,\u001b[38;5;124m'\u001b[39m\u001b[38;5;124mrecipe_name\u001b[39m\u001b[38;5;124m'\u001b[39m, \u001b[38;5;124m'\u001b[39m\u001b[38;5;124mfiber_g\u001b[39m\u001b[38;5;124m'\u001b[39m, \u001b[38;5;124m'\u001b[39m\u001b[38;5;124msodium_g\u001b[39m\u001b[38;5;124m'\u001b[39m, \u001b[38;5;124m'\u001b[39m\u001b[38;5;124mcarbohydrates_g\u001b[39m\u001b[38;5;124m'\u001b[39m, \u001b[38;5;124m'\u001b[39m\u001b[38;5;124mfat_g\u001b[39m\u001b[38;5;124m'\u001b[39m,\n\u001b[1;32m      8\u001b[0m        \u001b[38;5;124m'\u001b[39m\u001b[38;5;124mprotein_g\u001b[39m\u001b[38;5;124m'\u001b[39m, \u001b[38;5;124m'\u001b[39m\u001b[38;5;124msugar_g\u001b[39m\u001b[38;5;124m'\u001b[39m, \u001b[38;5;124m'\u001b[39m\u001b[38;5;124msaturate_g\u001b[39m\u001b[38;5;124m'\u001b[39m, \u001b[38;5;124m'\u001b[39m\u001b[38;5;124msize_g\u001b[39m\u001b[38;5;124m'\u001b[39m, \u001b[38;5;124m'\u001b[39m\u001b[38;5;124mServings\u001b[39m\u001b[38;5;124m'\u001b[39m,\n\u001b[1;32m      9\u001b[0m        \u001b[38;5;124m'\u001b[39m\u001b[38;5;124mcalories_kCal\u001b[39m\u001b[38;5;124m'\u001b[39m, \u001b[38;5;124m'\u001b[39m\u001b[38;5;124mcategory\u001b[39m\u001b[38;5;124m'\u001b[39m, \u001b[38;5;124m'\u001b[39m\u001b[38;5;124mfat_100g\u001b[39m\u001b[38;5;124m'\u001b[39m, \u001b[38;5;124m'\u001b[39m\u001b[38;5;124mfiber_100g\u001b[39m\u001b[38;5;124m'\u001b[39m, \u001b[38;5;124m'\u001b[39m\u001b[38;5;124msugar_100g\u001b[39m\u001b[38;5;124m'\u001b[39m,\n\u001b[0;32m   (...)\u001b[0m\n\u001b[1;32m     12\u001b[0m        \u001b[38;5;124m'\u001b[39m\u001b[38;5;124msatfat_count\u001b[39m\u001b[38;5;124m'\u001b[39m, \u001b[38;5;124m'\u001b[39m\u001b[38;5;124msugar_count\u001b[39m\u001b[38;5;124m'\u001b[39m, \u001b[38;5;124m'\u001b[39m\u001b[38;5;124msalt_count\u001b[39m\u001b[38;5;124m'\u001b[39m, \u001b[38;5;124m'\u001b[39m\u001b[38;5;124mNumberRatings\u001b[39m\u001b[38;5;124m'\u001b[39m,\n\u001b[1;32m     13\u001b[0m        ]\n\u001b[1;32m     15\u001b[0m label \u001b[38;5;241m=\u001b[39m [\u001b[38;5;124m'\u001b[39m\u001b[38;5;124mchosen\u001b[39m\u001b[38;5;124m'\u001b[39m]\n\u001b[1;32m     17\u001b[0m train_dataloader \u001b[38;5;241m=\u001b[39m DataLoader(\n\u001b[0;32m---> 18\u001b[0m     \u001b[43mCustomDataset\u001b[49m\u001b[43m(\u001b[49m\n\u001b[1;32m     19\u001b[0m \u001b[43m        \u001b[49m\u001b[43mtrain_data\u001b[49m\u001b[43m,\u001b[49m\n\u001b[1;32m     20\u001b[0m \u001b[43m        \u001b[49m\u001b[43muser_features\u001b[49m\u001b[43m,\u001b[49m\n\u001b[1;32m     21\u001b[0m \u001b[43m        \u001b[49m\u001b[43mitem_features\u001b[49m\u001b[43m,\u001b[49m\n\u001b[1;32m     22\u001b[0m \u001b[43m        \u001b[49m\u001b[43mlabel\u001b[49m\n\u001b[1;32m     23\u001b[0m \u001b[43m    \u001b[49m\u001b[43m)\u001b[49m, batch_size\u001b[38;5;241m=\u001b[39m\u001b[38;5;241m64\u001b[39m, shuffle\u001b[38;5;241m=\u001b[39m\u001b[38;5;28;01mTrue\u001b[39;00m\n\u001b[1;32m     24\u001b[0m )\n\u001b[1;32m     26\u001b[0m test_dataloader \u001b[38;5;241m=\u001b[39m DataLoader(\n\u001b[1;32m     27\u001b[0m     CustomDataset(\n\u001b[1;32m     28\u001b[0m         test_data,\n\u001b[0;32m   (...)\u001b[0m\n\u001b[1;32m     33\u001b[0m     \n\u001b[1;32m     34\u001b[0m )\n",
      "Cell \u001b[0;32mIn[327], line 5\u001b[0m, in \u001b[0;36mCustomDataset.__init__\u001b[0;34m(self, df, user_features, item_features, label)\u001b[0m\n\u001b[1;32m      4\u001b[0m \u001b[38;5;28;01mdef\u001b[39;00m \u001b[38;5;21m__init__\u001b[39m(\u001b[38;5;28mself\u001b[39m, df:pd\u001b[38;5;241m.\u001b[39mDataFrame, user_features:List, item_features:List, label:List):\n\u001b[0;32m----> 5\u001b[0m     \u001b[38;5;28mself\u001b[39m\u001b[38;5;241m.\u001b[39muser_id \u001b[38;5;241m=\u001b[39m \u001b[43mdf\u001b[49m\u001b[43m[\u001b[49m\u001b[43muser_features\u001b[49m\u001b[43m]\u001b[49m\u001b[38;5;241;43m.\u001b[39;49m\u001b[43mvalues\u001b[49m\u001b[38;5;241;43m.\u001b[39;49m\u001b[43mastype\u001b[49m\u001b[43m(\u001b[49m\u001b[38;5;28;43mint\u001b[39;49m\u001b[43m)\u001b[49m\n\u001b[1;32m      6\u001b[0m     \u001b[38;5;28mself\u001b[39m\u001b[38;5;241m.\u001b[39mrecipe_id \u001b[38;5;241m=\u001b[39m df[user_features]\u001b[38;5;241m.\u001b[39mvalues\u001b[38;5;241m.\u001b[39mastype(\u001b[38;5;28mint\u001b[39m)\n\u001b[1;32m      7\u001b[0m     \u001b[38;5;28mself\u001b[39m\u001b[38;5;241m.\u001b[39mchosen \u001b[38;5;241m=\u001b[39m df[label]\u001b[38;5;241m.\u001b[39mvalues\u001b[38;5;241m.\u001b[39mastype(\u001b[38;5;28mint\u001b[39m)\n",
      "\u001b[0;31mValueError\u001b[0m: invalid literal for int() with base 10: 'b25_35'"
     ]
    }
   ],
   "source": [
    "## Define user and item feature using DataLoeader\n",
    "\n",
    "user_features = ['user_id', 'age','gender', 'country', 'education', 'diet_restriction',\n",
    "       'diet_goal', 'cooking_exp', 'eating_habits'\n",
    "       ]\n",
    "\n",
    "recipe_features = ['recipe_id','recipe_name', 'fiber_g', 'sodium_g', 'carbohydrates_g', 'fat_g',\n",
    "       'protein_g', 'sugar_g', 'saturate_g', 'size_g', 'Servings',\n",
    "       'calories_kCal', 'category', 'fat_100g', 'fiber_100g', 'sugar_100g',\n",
    "       'saturated_100g', 'protien_100g', 'sodium_100mg', 'carbohydrates_100g',\n",
    "       'kj_100g', 'Nutri_score', 'Fsa_new', 'salt_100g', 'salt_g', 'fat_count',\n",
    "       'satfat_count', 'sugar_count', 'salt_count', 'NumberRatings',\n",
    "       ]\n",
    "\n",
    "label = ['chosen']\n",
    "\n",
    "train_dataloader = DataLoader(\n",
    "    CustomDataset(\n",
    "        train_data,\n",
    "        user_features,\n",
    "        item_features,\n",
    "        label\n",
    "    ), batch_size=64, shuffle=True\n",
    ")\n",
    "\n",
    "test_dataloader = DataLoader(\n",
    "    CustomDataset(\n",
    "        test_data,\n",
    "        user_features,\n",
    "        recipe_features,\n",
    "        label\n",
    "    ), batch_size=64, shuffle=True\n",
    "    \n",
    ")\n"
   ]
  },
  {
   "cell_type": "code",
   "execution_count": null,
   "metadata": {},
   "outputs": [],
   "source": [
    "## the model configuration stored in the json\n",
    "import json\n",
    "\n",
    "with open('config.json','r') as f:\n",
    "    conf = json.load(f)"
   ]
  },
  {
   "cell_type": "code",
   "execution_count": null,
   "metadata": {},
   "outputs": [
    {
     "data": {
      "text/plain": [
       "{'user_embedding_num': 744,\n",
       " 'user_embedding_dim': 9,\n",
       " 'item_embedding_num': 744,\n",
       " 'item_embedding_dim': 30,\n",
       " 'user_dense': [50, 60, 20],\n",
       " 'item_dense': [50, 60, 20],\n",
       " 'activation': 'relu',\n",
       " 'user_features': ['user_id',\n",
       "  'age',\n",
       "  'gender',\n",
       "  'country',\n",
       "  'education',\n",
       "  'diet_restriction',\n",
       "  'diet_goal',\n",
       "  'cooking_exp',\n",
       "  'eating_habits'],\n",
       " 'item_features': ['recipe_id',\n",
       "  'recipe_name',\n",
       "  'fiber_g',\n",
       "  'sodium_g',\n",
       "  'carbohydrates_g',\n",
       "  'fat_g',\n",
       "  'protein_g',\n",
       "  'sugar_g',\n",
       "  'saturate_g',\n",
       "  'size_g',\n",
       "  'Servings',\n",
       "  'calories_kCal',\n",
       "  'category',\n",
       "  'fat_100g',\n",
       "  'fiber_100g',\n",
       "  'sugar_100g',\n",
       "  'saturated_100g',\n",
       "  'protien_100g',\n",
       "  'sodium_100mg',\n",
       "  'carbohydrates_100g',\n",
       "  'kj_100g',\n",
       "  'Nutri_score',\n",
       "  'Fsa_new',\n",
       "  'salt_100g',\n",
       "  'salt_g',\n",
       "  'fat_count',\n",
       "  'satfat_count',\n",
       "  'sugar_count',\n",
       "  'salt_count',\n",
       "  'NumberRatings'],\n",
       " 'label': ['chosen']}"
      ]
     },
     "execution_count": 277,
     "metadata": {},
     "output_type": "execute_result"
    }
   ],
   "source": [
    "conf[\"user_embedding_num\"]= 743+1\n",
    "conf[\"item_embedding_num\"]= 743+1\n",
    "conf[\"user_embedding_dim\"]= 9\n",
    "conf[\"item_embedding_dim\"]= 30\n",
    "conf"
   ]
  },
  {
   "cell_type": "code",
   "execution_count": 293,
   "metadata": {},
   "outputs": [],
   "source": [
    "## Creating two Tower Model\n",
    "\n",
    "class TwoTower_rec(nn.Module):\n",
    "    def __init__(self, conf):\n",
    "        super(TwoTower_rec, self).__init__()\n",
    "        self.user_embedding_num = conf[\"user_embedding_num\"]\n",
    "        self.user_embedding_dim = conf[\"user_embedding_dim\"]\n",
    "        \n",
    "        self.item_embedding_num = conf[\"item_embedding_num\"]\n",
    "        self.item_embedding_dim = conf[\"item_embedding_dim\"]\n",
    "        self.user_embedding_dim2 = 200\n",
    "        self.item_embedding_dim2 = 200\n",
    "        \n",
    "        \n",
    "        self.user_dense = [len(user_features)*self.user_embedding_dim ,*conf[\"user_dense\"]]\n",
    "        self.item_dense = [len(item_features)*self.item_embedding_dim ,*conf[\"item_dense\"]]\n",
    "        self.activation = conf[\"activation\"]\n",
    "        self.model2 = False\n",
    "        \n",
    "        user_dense_layers = []\n",
    "        item_dense_layers = []\n",
    "        self.flatten = nn.Flatten()\n",
    "        self.user_embedding = nn.Embedding(self.user_embedding_num,self.user_embedding_dim)\n",
    "        for i  in range(len(self.user_dense) - 1):\n",
    "            dense = nn.Linear(self.user_dense[i],self.user_dense[i+1])\n",
    "            if self.activation == \"relu\":\n",
    "                act = nn.ReLU()\n",
    "\n",
    "            user_dense_layers.append(dense)\n",
    "            user_dense_layers.append(act)\n",
    "\n",
    "        self.user_tower = nn.Sequential(*user_dense_layers)\n",
    "        \n",
    "        self.item_embedding = nn.Embedding(self.item_embedding_num,self.item_embedding_dim)\n",
    "        self.item_embedding = nn.Embedding(self.item_embedding_num,self.item_embedding_dim)\n",
    "        for i  in range(len(self.item_dense) - 1):\n",
    "            dense = nn.Linear(self.item_dense[i],self.item_dense[i+1])\n",
    "            if self.activation == \"relu\":\n",
    "                act = nn.ReLU()\n",
    "\n",
    "            item_dense_layers.append(dense)\n",
    "            item_dense_layers.append(act)\n",
    "        \n",
    "        self.item_tower = nn.Sequential(*item_dense_layers)\n",
    "        if self.model2:\n",
    "            self.user_embed2 = nn.Embedding(int(self.user_dense[-1]),self.user_embedding_dim2)\n",
    "            self.item_embed2 = nn.Embedding(int(self.item_dense[-1]),self.item_embedding_dim2)\n",
    "        \n",
    "    def forward(self,X):\n",
    "        user_embed = self.user_embedding(X[0])\n",
    "        user_embed = self.flatten(user_embed)\n",
    "        item_embed = self.item_embedding(X[1])\n",
    "        item_embed = self.flatten(item_embed)\n",
    "\n",
    "        user  = self.user_tower(user_embed)\n",
    "        item  = self.item_tower(item_embed)\n",
    "        if self.model2:\n",
    "            user = self.user_embed2(user.long())\n",
    "            item = self.item_embed2(item.long())\n",
    "        score = torch.dot(user.reshape((-1,)), item.reshape((-1,)))\n",
    "        return score\n",
    "        "
   ]
  },
  {
   "cell_type": "code",
   "execution_count": 294,
   "metadata": {},
   "outputs": [
    {
     "data": {
      "text/plain": [
       "TwoTower_rec(\n",
       "  (flatten): Flatten(start_dim=1, end_dim=-1)\n",
       "  (user_embedding): Embedding(744, 9)\n",
       "  (user_tower): Sequential(\n",
       "    (0): Linear(in_features=81, out_features=50, bias=True)\n",
       "    (1): ReLU()\n",
       "    (2): Linear(in_features=50, out_features=60, bias=True)\n",
       "    (3): ReLU()\n",
       "    (4): Linear(in_features=60, out_features=20, bias=True)\n",
       "    (5): ReLU()\n",
       "  )\n",
       "  (item_embedding): Embedding(744, 30)\n",
       "  (item_tower): Sequential(\n",
       "    (0): Linear(in_features=900, out_features=50, bias=True)\n",
       "    (1): ReLU()\n",
       "    (2): Linear(in_features=50, out_features=60, bias=True)\n",
       "    (3): ReLU()\n",
       "    (4): Linear(in_features=60, out_features=20, bias=True)\n",
       "    (5): ReLU()\n",
       "  )\n",
       ")"
      ]
     },
     "execution_count": 294,
     "metadata": {},
     "output_type": "execute_result"
    }
   ],
   "source": [
    "model = TwoTower_rec(conf)\n",
    "model"
   ]
  },
  {
   "cell_type": "code",
   "execution_count": 295,
   "metadata": {},
   "outputs": [],
   "source": [
    "## Define the loww funcion and optimizer \n",
    "loss_fn = nn.MSELoss()\n",
    "optimizer = torch.optim.SGD(model.parameters(), lr=1e-3)"
   ]
  },
  {
   "cell_type": "code",
   "execution_count": 296,
   "metadata": {},
   "outputs": [],
   "source": [
    "def train(dataloader, model, loss_fn, optimizer):\n",
    "    size = len(dataloader.dataset)\n",
    "    print(size)\n",
    "    model.train()\n",
    "    for batch, (X, y) in enumerate(dataloader):\n",
    "        X, y = (X[0].to(device), X[1].to(device)), y.to(device)\n",
    "\n",
    "        # Compute prediction error\n",
    "        pred = model(X)\n",
    "        loss = loss_fn(pred, y.float())\n",
    "\n",
    "        # Backpropagation\n",
    "        loss.backward()\n",
    "        optimizer.step()\n",
    "        optimizer.zero_grad()\n",
    "\n",
    "        if batch % 100 == 0:\n",
    "            loss, current = loss.item(), (batch + 1) * len(X)\n",
    "            print(f\"loss: {loss:>7f}  [{current:>5d}/{size:>5d}]\")"
   ]
  },
  {
   "cell_type": "code",
   "execution_count": 297,
   "metadata": {},
   "outputs": [],
   "source": [
    "def test(dataloader, model, loss_fn):\n",
    "    size = len(dataloader.dataset)\n",
    "    num_batches = len(dataloader)\n",
    "    model.eval()\n",
    "    test_loss, correct = 0, 0\n",
    "    with torch.no_grad():\n",
    "        for X, y in dataloader:\n",
    "            X, y = (X[0].to(device), X[1].to(device)), y.to(device)\n",
    "            pred = model(X)\n",
    "            test_loss += loss_fn(pred, y.float()).item()\n",
    "    test_loss /= num_batches\n",
    "    print(f\"Test Error: \\n , Avg loss: {test_loss:>8f} \\n\")"
   ]
  },
  {
   "cell_type": "code",
   "execution_count": 298,
   "metadata": {},
   "outputs": [],
   "source": [
    "def fit(model, loss_fn, optimizer, train_dataloader, test_dataloader, epochs=5):\n",
    "    for t in range(epochs):\n",
    "        print(f\"Epoch {t+1}\\n-------------------------------\")\n",
    "        train(train_dataloader, model, loss_fn, optimizer)\n",
    "        test(test_dataloader, model, loss_fn)\n",
    "    print(\"Done!\")"
   ]
  },
  {
   "cell_type": "code",
   "execution_count": 299,
   "metadata": {},
   "outputs": [
    {
     "name": "stdout",
     "output_type": "stream",
     "text": [
      "Epoch 1\n",
      "-------------------------------\n",
      "1028764\n"
     ]
    },
    {
     "ename": "TypeError",
     "evalue": "can't convert np.ndarray of type numpy.object_. The only supported types are: float64, float32, float16, complex64, complex128, int64, int32, int16, int8, uint8, and bool.",
     "output_type": "error",
     "traceback": [
      "\u001b[0;31m---------------------------------------------------------------------------\u001b[0m",
      "\u001b[0;31mTypeError\u001b[0m                                 Traceback (most recent call last)",
      "Cell \u001b[0;32mIn[299], line 1\u001b[0m\n\u001b[0;32m----> 1\u001b[0m \u001b[43mfit\u001b[49m\u001b[43m(\u001b[49m\u001b[43mmodel\u001b[49m\u001b[43m,\u001b[49m\u001b[43m \u001b[49m\u001b[43mloss_fn\u001b[49m\u001b[43m,\u001b[49m\u001b[43m \u001b[49m\u001b[43moptimizer\u001b[49m\u001b[43m,\u001b[49m\u001b[43m \u001b[49m\u001b[43mtrain_dataloader\u001b[49m\u001b[43m,\u001b[49m\u001b[43m \u001b[49m\u001b[43mtest_dataloader\u001b[49m\u001b[43m,\u001b[49m\u001b[43m)\u001b[49m\n",
      "Cell \u001b[0;32mIn[298], line 4\u001b[0m, in \u001b[0;36mfit\u001b[0;34m(model, loss_fn, optimizer, train_dataloader, test_dataloader, epochs)\u001b[0m\n\u001b[1;32m      2\u001b[0m \u001b[38;5;28;01mfor\u001b[39;00m t \u001b[38;5;129;01min\u001b[39;00m \u001b[38;5;28mrange\u001b[39m(epochs):\n\u001b[1;32m      3\u001b[0m     \u001b[38;5;28mprint\u001b[39m(\u001b[38;5;124mf\u001b[39m\u001b[38;5;124m\"\u001b[39m\u001b[38;5;124mEpoch \u001b[39m\u001b[38;5;132;01m{\u001b[39;00mt\u001b[38;5;241m+\u001b[39m\u001b[38;5;241m1\u001b[39m\u001b[38;5;132;01m}\u001b[39;00m\u001b[38;5;130;01m\\n\u001b[39;00m\u001b[38;5;124m-------------------------------\u001b[39m\u001b[38;5;124m\"\u001b[39m)\n\u001b[0;32m----> 4\u001b[0m     \u001b[43mtrain\u001b[49m\u001b[43m(\u001b[49m\u001b[43mtrain_dataloader\u001b[49m\u001b[43m,\u001b[49m\u001b[43m \u001b[49m\u001b[43mmodel\u001b[49m\u001b[43m,\u001b[49m\u001b[43m \u001b[49m\u001b[43mloss_fn\u001b[49m\u001b[43m,\u001b[49m\u001b[43m \u001b[49m\u001b[43moptimizer\u001b[49m\u001b[43m)\u001b[49m\n\u001b[1;32m      5\u001b[0m     test(test_dataloader, model, loss_fn)\n\u001b[1;32m      6\u001b[0m \u001b[38;5;28mprint\u001b[39m(\u001b[38;5;124m\"\u001b[39m\u001b[38;5;124mDone!\u001b[39m\u001b[38;5;124m\"\u001b[39m)\n",
      "Cell \u001b[0;32mIn[296], line 5\u001b[0m, in \u001b[0;36mtrain\u001b[0;34m(dataloader, model, loss_fn, optimizer)\u001b[0m\n\u001b[1;32m      3\u001b[0m \u001b[38;5;28mprint\u001b[39m(size)\n\u001b[1;32m      4\u001b[0m model\u001b[38;5;241m.\u001b[39mtrain()\n\u001b[0;32m----> 5\u001b[0m \u001b[38;5;28;01mfor\u001b[39;00m batch, (X, y) \u001b[38;5;129;01min\u001b[39;00m \u001b[38;5;28menumerate\u001b[39m(dataloader):\n\u001b[1;32m      6\u001b[0m     X, y \u001b[38;5;241m=\u001b[39m (X[\u001b[38;5;241m0\u001b[39m]\u001b[38;5;241m.\u001b[39mto(device), X[\u001b[38;5;241m1\u001b[39m]\u001b[38;5;241m.\u001b[39mto(device)), y\u001b[38;5;241m.\u001b[39mto(device)\n\u001b[1;32m      8\u001b[0m     \u001b[38;5;66;03m# Compute prediction error\u001b[39;00m\n",
      "File \u001b[0;32m/opt/anaconda3/envs/pytorch_apple/lib/python3.8/site-packages/torch/utils/data/dataloader.py:631\u001b[0m, in \u001b[0;36m_BaseDataLoaderIter.__next__\u001b[0;34m(self)\u001b[0m\n\u001b[1;32m    628\u001b[0m \u001b[38;5;28;01mif\u001b[39;00m \u001b[38;5;28mself\u001b[39m\u001b[38;5;241m.\u001b[39m_sampler_iter \u001b[38;5;129;01mis\u001b[39;00m \u001b[38;5;28;01mNone\u001b[39;00m:\n\u001b[1;32m    629\u001b[0m     \u001b[38;5;66;03m# TODO(https://github.com/pytorch/pytorch/issues/76750)\u001b[39;00m\n\u001b[1;32m    630\u001b[0m     \u001b[38;5;28mself\u001b[39m\u001b[38;5;241m.\u001b[39m_reset()  \u001b[38;5;66;03m# type: ignore[call-arg]\u001b[39;00m\n\u001b[0;32m--> 631\u001b[0m data \u001b[38;5;241m=\u001b[39m \u001b[38;5;28;43mself\u001b[39;49m\u001b[38;5;241;43m.\u001b[39;49m\u001b[43m_next_data\u001b[49m\u001b[43m(\u001b[49m\u001b[43m)\u001b[49m\n\u001b[1;32m    632\u001b[0m \u001b[38;5;28mself\u001b[39m\u001b[38;5;241m.\u001b[39m_num_yielded \u001b[38;5;241m+\u001b[39m\u001b[38;5;241m=\u001b[39m \u001b[38;5;241m1\u001b[39m\n\u001b[1;32m    633\u001b[0m \u001b[38;5;28;01mif\u001b[39;00m \u001b[38;5;28mself\u001b[39m\u001b[38;5;241m.\u001b[39m_dataset_kind \u001b[38;5;241m==\u001b[39m _DatasetKind\u001b[38;5;241m.\u001b[39mIterable \u001b[38;5;129;01mand\u001b[39;00m \\\n\u001b[1;32m    634\u001b[0m         \u001b[38;5;28mself\u001b[39m\u001b[38;5;241m.\u001b[39m_IterableDataset_len_called \u001b[38;5;129;01mis\u001b[39;00m \u001b[38;5;129;01mnot\u001b[39;00m \u001b[38;5;28;01mNone\u001b[39;00m \u001b[38;5;129;01mand\u001b[39;00m \\\n\u001b[1;32m    635\u001b[0m         \u001b[38;5;28mself\u001b[39m\u001b[38;5;241m.\u001b[39m_num_yielded \u001b[38;5;241m>\u001b[39m \u001b[38;5;28mself\u001b[39m\u001b[38;5;241m.\u001b[39m_IterableDataset_len_called:\n",
      "File \u001b[0;32m/opt/anaconda3/envs/pytorch_apple/lib/python3.8/site-packages/torch/utils/data/dataloader.py:675\u001b[0m, in \u001b[0;36m_SingleProcessDataLoaderIter._next_data\u001b[0;34m(self)\u001b[0m\n\u001b[1;32m    673\u001b[0m \u001b[38;5;28;01mdef\u001b[39;00m \u001b[38;5;21m_next_data\u001b[39m(\u001b[38;5;28mself\u001b[39m):\n\u001b[1;32m    674\u001b[0m     index \u001b[38;5;241m=\u001b[39m \u001b[38;5;28mself\u001b[39m\u001b[38;5;241m.\u001b[39m_next_index()  \u001b[38;5;66;03m# may raise StopIteration\u001b[39;00m\n\u001b[0;32m--> 675\u001b[0m     data \u001b[38;5;241m=\u001b[39m \u001b[38;5;28;43mself\u001b[39;49m\u001b[38;5;241;43m.\u001b[39;49m\u001b[43m_dataset_fetcher\u001b[49m\u001b[38;5;241;43m.\u001b[39;49m\u001b[43mfetch\u001b[49m\u001b[43m(\u001b[49m\u001b[43mindex\u001b[49m\u001b[43m)\u001b[49m  \u001b[38;5;66;03m# may raise StopIteration\u001b[39;00m\n\u001b[1;32m    676\u001b[0m     \u001b[38;5;28;01mif\u001b[39;00m \u001b[38;5;28mself\u001b[39m\u001b[38;5;241m.\u001b[39m_pin_memory:\n\u001b[1;32m    677\u001b[0m         data \u001b[38;5;241m=\u001b[39m _utils\u001b[38;5;241m.\u001b[39mpin_memory\u001b[38;5;241m.\u001b[39mpin_memory(data, \u001b[38;5;28mself\u001b[39m\u001b[38;5;241m.\u001b[39m_pin_memory_device)\n",
      "File \u001b[0;32m/opt/anaconda3/envs/pytorch_apple/lib/python3.8/site-packages/torch/utils/data/_utils/fetch.py:51\u001b[0m, in \u001b[0;36m_MapDatasetFetcher.fetch\u001b[0;34m(self, possibly_batched_index)\u001b[0m\n\u001b[1;32m     49\u001b[0m         data \u001b[38;5;241m=\u001b[39m \u001b[38;5;28mself\u001b[39m\u001b[38;5;241m.\u001b[39mdataset\u001b[38;5;241m.\u001b[39m__getitems__(possibly_batched_index)\n\u001b[1;32m     50\u001b[0m     \u001b[38;5;28;01melse\u001b[39;00m:\n\u001b[0;32m---> 51\u001b[0m         data \u001b[38;5;241m=\u001b[39m [\u001b[38;5;28mself\u001b[39m\u001b[38;5;241m.\u001b[39mdataset[idx] \u001b[38;5;28;01mfor\u001b[39;00m idx \u001b[38;5;129;01min\u001b[39;00m possibly_batched_index]\n\u001b[1;32m     52\u001b[0m \u001b[38;5;28;01melse\u001b[39;00m:\n\u001b[1;32m     53\u001b[0m     data \u001b[38;5;241m=\u001b[39m \u001b[38;5;28mself\u001b[39m\u001b[38;5;241m.\u001b[39mdataset[possibly_batched_index]\n",
      "File \u001b[0;32m/opt/anaconda3/envs/pytorch_apple/lib/python3.8/site-packages/torch/utils/data/_utils/fetch.py:51\u001b[0m, in \u001b[0;36m<listcomp>\u001b[0;34m(.0)\u001b[0m\n\u001b[1;32m     49\u001b[0m         data \u001b[38;5;241m=\u001b[39m \u001b[38;5;28mself\u001b[39m\u001b[38;5;241m.\u001b[39mdataset\u001b[38;5;241m.\u001b[39m__getitems__(possibly_batched_index)\n\u001b[1;32m     50\u001b[0m     \u001b[38;5;28;01melse\u001b[39;00m:\n\u001b[0;32m---> 51\u001b[0m         data \u001b[38;5;241m=\u001b[39m [\u001b[38;5;28;43mself\u001b[39;49m\u001b[38;5;241;43m.\u001b[39;49m\u001b[43mdataset\u001b[49m\u001b[43m[\u001b[49m\u001b[43midx\u001b[49m\u001b[43m]\u001b[49m \u001b[38;5;28;01mfor\u001b[39;00m idx \u001b[38;5;129;01min\u001b[39;00m possibly_batched_index]\n\u001b[1;32m     52\u001b[0m \u001b[38;5;28;01melse\u001b[39;00m:\n\u001b[1;32m     53\u001b[0m     data \u001b[38;5;241m=\u001b[39m \u001b[38;5;28mself\u001b[39m\u001b[38;5;241m.\u001b[39mdataset[possibly_batched_index]\n",
      "Cell \u001b[0;32mIn[270], line 18\u001b[0m, in \u001b[0;36mCustomDataset.__getitem__\u001b[0;34m(self, idx)\u001b[0m\n\u001b[1;32m     15\u001b[0m recipe_id \u001b[38;5;241m=\u001b[39m \u001b[38;5;28mself\u001b[39m\u001b[38;5;241m.\u001b[39mrecipe_id[idx] \n\u001b[1;32m     16\u001b[0m chosen   \u001b[38;5;241m=\u001b[39m \u001b[38;5;28mself\u001b[39m\u001b[38;5;241m.\u001b[39mchosen[idx]\n\u001b[0;32m---> 18\u001b[0m \u001b[38;5;28;01mreturn\u001b[39;00m [\u001b[43mtorch\u001b[49m\u001b[38;5;241;43m.\u001b[39;49m\u001b[43mtensor\u001b[49m\u001b[43m(\u001b[49m\u001b[43muser_id\u001b[49m\u001b[43m)\u001b[49m, torch\u001b[38;5;241m.\u001b[39mtensor(recipe_id)], torch\u001b[38;5;241m.\u001b[39mtensor(chosen)\n",
      "\u001b[0;31mTypeError\u001b[0m: can't convert np.ndarray of type numpy.object_. The only supported types are: float64, float32, float16, complex64, complex128, int64, int32, int16, int8, uint8, and bool."
     ]
    }
   ],
   "source": [
    "fit(model, loss_fn, optimizer, train_dataloader, test_dataloader,)"
   ]
  },
  {
   "cell_type": "code",
   "execution_count": null,
   "metadata": {},
   "outputs": [],
   "source": []
  }
 ],
 "metadata": {
  "language_info": {
   "name": "python"
  }
 },
 "nbformat": 4,
 "nbformat_minor": 2
}
